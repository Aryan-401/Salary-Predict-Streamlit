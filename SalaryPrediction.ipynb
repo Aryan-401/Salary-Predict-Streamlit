{
 "cells": [
  {
   "cell_type": "code",
   "execution_count": 115,
   "metadata": {
    "collapsed": true,
    "ExecuteTime": {
     "start_time": "2023-06-03T22:08:07.991597Z",
     "end_time": "2023-06-03T22:08:09.381138Z"
    }
   },
   "outputs": [
    {
     "name": "stdout",
     "output_type": "stream",
     "text": [
      "(73268, 79)\n"
     ]
    }
   ],
   "source": [
    "import pandas as pd\n",
    "import matplotlib.pyplot as plt\n",
    "\n",
    "df = pd.read_csv('survey_results_public.csv')\n",
    "print(df.shape)"
   ]
  },
  {
   "cell_type": "code",
   "execution_count": 116,
   "outputs": [
    {
     "name": "stdout",
     "output_type": "stream",
     "text": [
      "(73268, 79)\n"
     ]
    },
    {
     "data": {
      "text/plain": "   ResponseId                                         MainBranch  \\\n0           1                                      None of these   \n1           2                     I am a developer by profession   \n2           3  I am not primarily a developer, but I write co...   \n3           4                     I am a developer by profession   \n4           5                     I am a developer by profession   \n\n            Employment                            RemoteWork  \\\n0                  NaN                                   NaN   \n1  Employed, full-time                          Fully remote   \n2  Employed, full-time  Hybrid (some remote, some in-person)   \n3  Employed, full-time                          Fully remote   \n4  Employed, full-time  Hybrid (some remote, some in-person)   \n\n                           CodingActivities  \\\n0                                       NaN   \n1  Hobby;Contribute to open-source projects   \n2                                     Hobby   \n3              I don’t code outside of work   \n4                                     Hobby   \n\n                                           EdLevel  \\\n0                                              NaN   \n1                                              NaN   \n2  Master’s degree (M.A., M.S., M.Eng., MBA, etc.)   \n3     Bachelor’s degree (B.A., B.S., B.Eng., etc.)   \n4     Bachelor’s degree (B.A., B.S., B.Eng., etc.)   \n\n                                           LearnCode  \\\n0                                                NaN   \n1                                                NaN   \n2  Books / Physical media;Friend or family member...   \n3  Books / Physical media;School (i.e., Universit...   \n4  Other online resources (e.g., videos, blogs, f...   \n\n                                     LearnCodeOnline LearnCodeCoursesCert  \\\n0                                                NaN                  NaN   \n1                                                NaN                  NaN   \n2  Technical documentation;Blogs;Programming Game...                  NaN   \n3                                                NaN                  NaN   \n4  Technical documentation;Blogs;Stack Overflow;O...                  NaN   \n\n  YearsCode  ... TimeSearching TimeAnswering Onboarding ProfessionalTech  \\\n0       NaN  ...           NaN           NaN        NaN              NaN   \n1       NaN  ...           NaN           NaN        NaN              NaN   \n2        14  ...           NaN           NaN        NaN              NaN   \n3        20  ...           NaN           NaN        NaN              NaN   \n4         8  ...           NaN           NaN        NaN              NaN   \n\n  TrueFalse_1 TrueFalse_2 TrueFalse_3           SurveyLength  \\\n0         NaN         NaN         NaN                    NaN   \n1         NaN         NaN         NaN               Too long   \n2         NaN         NaN         NaN  Appropriate in length   \n3         NaN         NaN         NaN  Appropriate in length   \n4         NaN         NaN         NaN               Too long   \n\n                   SurveyEase ConvertedCompYearly  \n0                         NaN                 NaN  \n1                   Difficult                 NaN  \n2  Neither easy nor difficult             40205.0  \n3                        Easy            215232.0  \n4                        Easy                 NaN  \n\n[5 rows x 79 columns]",
      "text/html": "<div>\n<style scoped>\n    .dataframe tbody tr th:only-of-type {\n        vertical-align: middle;\n    }\n\n    .dataframe tbody tr th {\n        vertical-align: top;\n    }\n\n    .dataframe thead th {\n        text-align: right;\n    }\n</style>\n<table border=\"1\" class=\"dataframe\">\n  <thead>\n    <tr style=\"text-align: right;\">\n      <th></th>\n      <th>ResponseId</th>\n      <th>MainBranch</th>\n      <th>Employment</th>\n      <th>RemoteWork</th>\n      <th>CodingActivities</th>\n      <th>EdLevel</th>\n      <th>LearnCode</th>\n      <th>LearnCodeOnline</th>\n      <th>LearnCodeCoursesCert</th>\n      <th>YearsCode</th>\n      <th>...</th>\n      <th>TimeSearching</th>\n      <th>TimeAnswering</th>\n      <th>Onboarding</th>\n      <th>ProfessionalTech</th>\n      <th>TrueFalse_1</th>\n      <th>TrueFalse_2</th>\n      <th>TrueFalse_3</th>\n      <th>SurveyLength</th>\n      <th>SurveyEase</th>\n      <th>ConvertedCompYearly</th>\n    </tr>\n  </thead>\n  <tbody>\n    <tr>\n      <th>0</th>\n      <td>1</td>\n      <td>None of these</td>\n      <td>NaN</td>\n      <td>NaN</td>\n      <td>NaN</td>\n      <td>NaN</td>\n      <td>NaN</td>\n      <td>NaN</td>\n      <td>NaN</td>\n      <td>NaN</td>\n      <td>...</td>\n      <td>NaN</td>\n      <td>NaN</td>\n      <td>NaN</td>\n      <td>NaN</td>\n      <td>NaN</td>\n      <td>NaN</td>\n      <td>NaN</td>\n      <td>NaN</td>\n      <td>NaN</td>\n      <td>NaN</td>\n    </tr>\n    <tr>\n      <th>1</th>\n      <td>2</td>\n      <td>I am a developer by profession</td>\n      <td>Employed, full-time</td>\n      <td>Fully remote</td>\n      <td>Hobby;Contribute to open-source projects</td>\n      <td>NaN</td>\n      <td>NaN</td>\n      <td>NaN</td>\n      <td>NaN</td>\n      <td>NaN</td>\n      <td>...</td>\n      <td>NaN</td>\n      <td>NaN</td>\n      <td>NaN</td>\n      <td>NaN</td>\n      <td>NaN</td>\n      <td>NaN</td>\n      <td>NaN</td>\n      <td>Too long</td>\n      <td>Difficult</td>\n      <td>NaN</td>\n    </tr>\n    <tr>\n      <th>2</th>\n      <td>3</td>\n      <td>I am not primarily a developer, but I write co...</td>\n      <td>Employed, full-time</td>\n      <td>Hybrid (some remote, some in-person)</td>\n      <td>Hobby</td>\n      <td>Master’s degree (M.A., M.S., M.Eng., MBA, etc.)</td>\n      <td>Books / Physical media;Friend or family member...</td>\n      <td>Technical documentation;Blogs;Programming Game...</td>\n      <td>NaN</td>\n      <td>14</td>\n      <td>...</td>\n      <td>NaN</td>\n      <td>NaN</td>\n      <td>NaN</td>\n      <td>NaN</td>\n      <td>NaN</td>\n      <td>NaN</td>\n      <td>NaN</td>\n      <td>Appropriate in length</td>\n      <td>Neither easy nor difficult</td>\n      <td>40205.0</td>\n    </tr>\n    <tr>\n      <th>3</th>\n      <td>4</td>\n      <td>I am a developer by profession</td>\n      <td>Employed, full-time</td>\n      <td>Fully remote</td>\n      <td>I don’t code outside of work</td>\n      <td>Bachelor’s degree (B.A., B.S., B.Eng., etc.)</td>\n      <td>Books / Physical media;School (i.e., Universit...</td>\n      <td>NaN</td>\n      <td>NaN</td>\n      <td>20</td>\n      <td>...</td>\n      <td>NaN</td>\n      <td>NaN</td>\n      <td>NaN</td>\n      <td>NaN</td>\n      <td>NaN</td>\n      <td>NaN</td>\n      <td>NaN</td>\n      <td>Appropriate in length</td>\n      <td>Easy</td>\n      <td>215232.0</td>\n    </tr>\n    <tr>\n      <th>4</th>\n      <td>5</td>\n      <td>I am a developer by profession</td>\n      <td>Employed, full-time</td>\n      <td>Hybrid (some remote, some in-person)</td>\n      <td>Hobby</td>\n      <td>Bachelor’s degree (B.A., B.S., B.Eng., etc.)</td>\n      <td>Other online resources (e.g., videos, blogs, f...</td>\n      <td>Technical documentation;Blogs;Stack Overflow;O...</td>\n      <td>NaN</td>\n      <td>8</td>\n      <td>...</td>\n      <td>NaN</td>\n      <td>NaN</td>\n      <td>NaN</td>\n      <td>NaN</td>\n      <td>NaN</td>\n      <td>NaN</td>\n      <td>NaN</td>\n      <td>Too long</td>\n      <td>Easy</td>\n      <td>NaN</td>\n    </tr>\n  </tbody>\n</table>\n<p>5 rows × 79 columns</p>\n</div>"
     },
     "execution_count": 116,
     "metadata": {},
     "output_type": "execute_result"
    }
   ],
   "source": [
    "print(df.shape)\n",
    "df.head()"
   ],
   "metadata": {
    "collapsed": false,
    "ExecuteTime": {
     "start_time": "2023-06-03T22:08:09.381138Z",
     "end_time": "2023-06-03T22:08:09.436136Z"
    }
   }
  },
  {
   "cell_type": "code",
   "execution_count": 117,
   "outputs": [
    {
     "name": "stdout",
     "output_type": "stream",
     "text": [
      "(73268, 6)\n"
     ]
    },
    {
     "data": {
      "text/plain": "                                             Country              Age  \\\n0                                                NaN              NaN   \n1                                             Canada              NaN   \n2  United Kingdom of Great Britain and Northern I...  25-34 years old   \n3                                             Israel  35-44 years old   \n4                           United States of America  25-34 years old   \n\n                                           EdLevel YearsCodePro  \\\n0                                              NaN          NaN   \n1                                              NaN          NaN   \n2  Master’s degree (M.A., M.S., M.Eng., MBA, etc.)            5   \n3     Bachelor’s degree (B.A., B.S., B.Eng., etc.)           17   \n4     Bachelor’s degree (B.A., B.S., B.Eng., etc.)            3   \n\n            Employment  ConvertedCompYearly  \n0                  NaN                  NaN  \n1  Employed, full-time                  NaN  \n2  Employed, full-time              40205.0  \n3  Employed, full-time             215232.0  \n4  Employed, full-time                  NaN  ",
      "text/html": "<div>\n<style scoped>\n    .dataframe tbody tr th:only-of-type {\n        vertical-align: middle;\n    }\n\n    .dataframe tbody tr th {\n        vertical-align: top;\n    }\n\n    .dataframe thead th {\n        text-align: right;\n    }\n</style>\n<table border=\"1\" class=\"dataframe\">\n  <thead>\n    <tr style=\"text-align: right;\">\n      <th></th>\n      <th>Country</th>\n      <th>Age</th>\n      <th>EdLevel</th>\n      <th>YearsCodePro</th>\n      <th>Employment</th>\n      <th>ConvertedCompYearly</th>\n    </tr>\n  </thead>\n  <tbody>\n    <tr>\n      <th>0</th>\n      <td>NaN</td>\n      <td>NaN</td>\n      <td>NaN</td>\n      <td>NaN</td>\n      <td>NaN</td>\n      <td>NaN</td>\n    </tr>\n    <tr>\n      <th>1</th>\n      <td>Canada</td>\n      <td>NaN</td>\n      <td>NaN</td>\n      <td>NaN</td>\n      <td>Employed, full-time</td>\n      <td>NaN</td>\n    </tr>\n    <tr>\n      <th>2</th>\n      <td>United Kingdom of Great Britain and Northern I...</td>\n      <td>25-34 years old</td>\n      <td>Master’s degree (M.A., M.S., M.Eng., MBA, etc.)</td>\n      <td>5</td>\n      <td>Employed, full-time</td>\n      <td>40205.0</td>\n    </tr>\n    <tr>\n      <th>3</th>\n      <td>Israel</td>\n      <td>35-44 years old</td>\n      <td>Bachelor’s degree (B.A., B.S., B.Eng., etc.)</td>\n      <td>17</td>\n      <td>Employed, full-time</td>\n      <td>215232.0</td>\n    </tr>\n    <tr>\n      <th>4</th>\n      <td>United States of America</td>\n      <td>25-34 years old</td>\n      <td>Bachelor’s degree (B.A., B.S., B.Eng., etc.)</td>\n      <td>3</td>\n      <td>Employed, full-time</td>\n      <td>NaN</td>\n    </tr>\n  </tbody>\n</table>\n</div>"
     },
     "execution_count": 117,
     "metadata": {},
     "output_type": "execute_result"
    }
   ],
   "source": [
    "df = df[['Country', 'Age' , 'EdLevel', 'YearsCodePro', 'Employment', 'ConvertedCompYearly']]\n",
    "print(df.shape)\n",
    "df.head()"
   ],
   "metadata": {
    "collapsed": false,
    "ExecuteTime": {
     "start_time": "2023-06-03T22:08:09.413345Z",
     "end_time": "2023-06-03T22:08:09.437134Z"
    }
   }
  },
  {
   "cell_type": "code",
   "execution_count": 118,
   "outputs": [],
   "source": [
    "df = df.rename({'ConvertedCompYearly': 'Salary'}, axis=1)"
   ],
   "metadata": {
    "collapsed": false,
    "ExecuteTime": {
     "start_time": "2023-06-03T22:08:09.429237Z",
     "end_time": "2023-06-03T22:08:09.442143Z"
    }
   }
  },
  {
   "cell_type": "code",
   "execution_count": 119,
   "outputs": [
    {
     "name": "stdout",
     "output_type": "stream",
     "text": [
      "(38071, 6)\n"
     ]
    },
    {
     "data": {
      "text/plain": "                                              Country              Age  \\\n2   United Kingdom of Great Britain and Northern I...  25-34 years old   \n3                                              Israel  35-44 years old   \n8                                         Netherlands  25-34 years old   \n10  United Kingdom of Great Britain and Northern I...  18-24 years old   \n11                           United States of America  35-44 years old   \n\n                                            EdLevel YearsCodePro  \\\n2   Master’s degree (M.A., M.S., M.Eng., MBA, etc.)            5   \n3      Bachelor’s degree (B.A., B.S., B.Eng., etc.)           17   \n8   Master’s degree (M.A., M.S., M.Eng., MBA, etc.)            6   \n10     Bachelor’s degree (B.A., B.S., B.Eng., etc.)            2   \n11     Bachelor’s degree (B.A., B.S., B.Eng., etc.)           10   \n\n                                           Employment    Salary  \n2                                 Employed, full-time   40205.0  \n3                                 Employed, full-time  215232.0  \n8                                 Employed, full-time   49056.0  \n10                                Employed, full-time   60307.0  \n11  Employed, full-time;Independent contractor, fr...  194400.0  ",
      "text/html": "<div>\n<style scoped>\n    .dataframe tbody tr th:only-of-type {\n        vertical-align: middle;\n    }\n\n    .dataframe tbody tr th {\n        vertical-align: top;\n    }\n\n    .dataframe thead th {\n        text-align: right;\n    }\n</style>\n<table border=\"1\" class=\"dataframe\">\n  <thead>\n    <tr style=\"text-align: right;\">\n      <th></th>\n      <th>Country</th>\n      <th>Age</th>\n      <th>EdLevel</th>\n      <th>YearsCodePro</th>\n      <th>Employment</th>\n      <th>Salary</th>\n    </tr>\n  </thead>\n  <tbody>\n    <tr>\n      <th>2</th>\n      <td>United Kingdom of Great Britain and Northern I...</td>\n      <td>25-34 years old</td>\n      <td>Master’s degree (M.A., M.S., M.Eng., MBA, etc.)</td>\n      <td>5</td>\n      <td>Employed, full-time</td>\n      <td>40205.0</td>\n    </tr>\n    <tr>\n      <th>3</th>\n      <td>Israel</td>\n      <td>35-44 years old</td>\n      <td>Bachelor’s degree (B.A., B.S., B.Eng., etc.)</td>\n      <td>17</td>\n      <td>Employed, full-time</td>\n      <td>215232.0</td>\n    </tr>\n    <tr>\n      <th>8</th>\n      <td>Netherlands</td>\n      <td>25-34 years old</td>\n      <td>Master’s degree (M.A., M.S., M.Eng., MBA, etc.)</td>\n      <td>6</td>\n      <td>Employed, full-time</td>\n      <td>49056.0</td>\n    </tr>\n    <tr>\n      <th>10</th>\n      <td>United Kingdom of Great Britain and Northern I...</td>\n      <td>18-24 years old</td>\n      <td>Bachelor’s degree (B.A., B.S., B.Eng., etc.)</td>\n      <td>2</td>\n      <td>Employed, full-time</td>\n      <td>60307.0</td>\n    </tr>\n    <tr>\n      <th>11</th>\n      <td>United States of America</td>\n      <td>35-44 years old</td>\n      <td>Bachelor’s degree (B.A., B.S., B.Eng., etc.)</td>\n      <td>10</td>\n      <td>Employed, full-time;Independent contractor, fr...</td>\n      <td>194400.0</td>\n    </tr>\n  </tbody>\n</table>\n</div>"
     },
     "execution_count": 119,
     "metadata": {},
     "output_type": "execute_result"
    }
   ],
   "source": [
    "df = df[df['Salary'].notnull()]\n",
    "print(df.shape)\n",
    "df.head()"
   ],
   "metadata": {
    "collapsed": false,
    "ExecuteTime": {
     "start_time": "2023-06-03T22:08:09.444638Z",
     "end_time": "2023-06-03T22:08:09.563390Z"
    }
   }
  },
  {
   "cell_type": "code",
   "execution_count": 120,
   "outputs": [
    {
     "name": "stdout",
     "output_type": "stream",
     "text": [
      "<class 'pandas.core.frame.DataFrame'>\n",
      "Index: 38071 entries, 2 to 73121\n",
      "Data columns (total 6 columns):\n",
      " #   Column        Non-Null Count  Dtype  \n",
      "---  ------        --------------  -----  \n",
      " 0   Country       38071 non-null  object \n",
      " 1   Age           37984 non-null  object \n",
      " 2   EdLevel       38054 non-null  object \n",
      " 3   YearsCodePro  37935 non-null  object \n",
      " 4   Employment    38067 non-null  object \n",
      " 5   Salary        38071 non-null  float64\n",
      "dtypes: float64(1), object(5)\n",
      "memory usage: 2.0+ MB\n"
     ]
    }
   ],
   "source": [
    "df.info()"
   ],
   "metadata": {
    "collapsed": false,
    "ExecuteTime": {
     "start_time": "2023-06-03T22:08:09.474387Z",
     "end_time": "2023-06-03T22:08:09.563390Z"
    }
   }
  },
  {
   "cell_type": "code",
   "execution_count": 121,
   "outputs": [
    {
     "name": "stdout",
     "output_type": "stream",
     "text": [
      "(37832, 6)\n"
     ]
    },
    {
     "data": {
      "text/plain": "Country         0\nAge             0\nEdLevel         0\nYearsCodePro    0\nEmployment      0\nSalary          0\ndtype: int64"
     },
     "execution_count": 121,
     "metadata": {},
     "output_type": "execute_result"
    }
   ],
   "source": [
    "df = df.dropna()\n",
    "print(df.shape)\n",
    "df.isnull().sum()"
   ],
   "metadata": {
    "collapsed": false,
    "ExecuteTime": {
     "start_time": "2023-06-03T22:08:09.493947Z",
     "end_time": "2023-06-03T22:08:09.611193Z"
    }
   }
  },
  {
   "cell_type": "code",
   "execution_count": 122,
   "outputs": [
    {
     "data": {
      "text/plain": "array(['Employed, full-time',\n       'Employed, full-time;Independent contractor, freelancer, or self-employed',\n       'Independent contractor, freelancer, or self-employed',\n       'Employed, part-time',\n       'Independent contractor, freelancer, or self-employed;Employed, part-time',\n       'Employed, full-time;Independent contractor, freelancer, or self-employed;Employed, part-time',\n       'Employed, full-time;Employed, part-time', 'I prefer not to say',\n       'Independent contractor, freelancer, or self-employed;Retired',\n       'Retired', 'Employed, part-time;Retired',\n       'Employed, full-time;Retired',\n       'Employed, full-time;Independent contractor, freelancer, or self-employed;Retired'],\n      dtype=object)"
     },
     "execution_count": 122,
     "metadata": {},
     "output_type": "execute_result"
    }
   ],
   "source": [
    "df['Employment'].unique()"
   ],
   "metadata": {
    "collapsed": false,
    "ExecuteTime": {
     "start_time": "2023-06-03T22:08:09.520373Z",
     "end_time": "2023-06-03T22:08:09.689158Z"
    }
   }
  },
  {
   "cell_type": "code",
   "execution_count": 123,
   "outputs": [
    {
     "name": "stdout",
     "output_type": "stream",
     "text": [
      "(37805, 6)\n"
     ]
    }
   ],
   "source": [
    "df = df[df['Employment'] != 'I prefer not to say']\n",
    "print(df.shape)"
   ],
   "metadata": {
    "collapsed": false,
    "ExecuteTime": {
     "start_time": "2023-06-03T22:08:09.540939Z",
     "end_time": "2023-06-03T22:08:09.720076Z"
    }
   }
  },
  {
   "cell_type": "code",
   "execution_count": 124,
   "outputs": [
    {
     "data": {
      "text/plain": "2"
     },
     "execution_count": 124,
     "metadata": {},
     "output_type": "execute_result"
    }
   ],
   "source": [
    "df['Employment'].apply(lambda x: x.count(';')).max()"
   ],
   "metadata": {
    "collapsed": false,
    "ExecuteTime": {
     "start_time": "2023-06-03T22:08:09.571326Z",
     "end_time": "2023-06-03T22:08:09.730924Z"
    }
   }
  },
  {
   "cell_type": "code",
   "execution_count": 125,
   "outputs": [
    {
     "name": "stdout",
     "output_type": "stream",
     "text": [
      "(34209, 6)\n"
     ]
    },
    {
     "data": {
      "text/plain": "                                              Country              Age  \\\n2   United Kingdom of Great Britain and Northern I...  25-34 years old   \n3                                              Israel  35-44 years old   \n8                                         Netherlands  25-34 years old   \n10  United Kingdom of Great Britain and Northern I...  18-24 years old   \n11                           United States of America  35-44 years old   \n\n                                            EdLevel YearsCodePro  \\\n2   Master’s degree (M.A., M.S., M.Eng., MBA, etc.)            5   \n3      Bachelor’s degree (B.A., B.S., B.Eng., etc.)           17   \n8   Master’s degree (M.A., M.S., M.Eng., MBA, etc.)            6   \n10     Bachelor’s degree (B.A., B.S., B.Eng., etc.)            2   \n11     Bachelor’s degree (B.A., B.S., B.Eng., etc.)           10   \n\n                                           Employment    Salary  \n2                                 Employed, full-time   40205.0  \n3                                 Employed, full-time  215232.0  \n8                                 Employed, full-time   49056.0  \n10                                Employed, full-time   60307.0  \n11  Employed, full-time;Independent contractor, fr...  194400.0  ",
      "text/html": "<div>\n<style scoped>\n    .dataframe tbody tr th:only-of-type {\n        vertical-align: middle;\n    }\n\n    .dataframe tbody tr th {\n        vertical-align: top;\n    }\n\n    .dataframe thead th {\n        text-align: right;\n    }\n</style>\n<table border=\"1\" class=\"dataframe\">\n  <thead>\n    <tr style=\"text-align: right;\">\n      <th></th>\n      <th>Country</th>\n      <th>Age</th>\n      <th>EdLevel</th>\n      <th>YearsCodePro</th>\n      <th>Employment</th>\n      <th>Salary</th>\n    </tr>\n  </thead>\n  <tbody>\n    <tr>\n      <th>2</th>\n      <td>United Kingdom of Great Britain and Northern I...</td>\n      <td>25-34 years old</td>\n      <td>Master’s degree (M.A., M.S., M.Eng., MBA, etc.)</td>\n      <td>5</td>\n      <td>Employed, full-time</td>\n      <td>40205.0</td>\n    </tr>\n    <tr>\n      <th>3</th>\n      <td>Israel</td>\n      <td>35-44 years old</td>\n      <td>Bachelor’s degree (B.A., B.S., B.Eng., etc.)</td>\n      <td>17</td>\n      <td>Employed, full-time</td>\n      <td>215232.0</td>\n    </tr>\n    <tr>\n      <th>8</th>\n      <td>Netherlands</td>\n      <td>25-34 years old</td>\n      <td>Master’s degree (M.A., M.S., M.Eng., MBA, etc.)</td>\n      <td>6</td>\n      <td>Employed, full-time</td>\n      <td>49056.0</td>\n    </tr>\n    <tr>\n      <th>10</th>\n      <td>United Kingdom of Great Britain and Northern I...</td>\n      <td>18-24 years old</td>\n      <td>Bachelor’s degree (B.A., B.S., B.Eng., etc.)</td>\n      <td>2</td>\n      <td>Employed, full-time</td>\n      <td>60307.0</td>\n    </tr>\n    <tr>\n      <th>11</th>\n      <td>United States of America</td>\n      <td>35-44 years old</td>\n      <td>Bachelor’s degree (B.A., B.S., B.Eng., etc.)</td>\n      <td>10</td>\n      <td>Employed, full-time;Independent contractor, fr...</td>\n      <td>194400.0</td>\n    </tr>\n  </tbody>\n</table>\n</div>"
     },
     "execution_count": 125,
     "metadata": {},
     "output_type": "execute_result"
    }
   ],
   "source": [
    "#keep the columns which has \"Employed, full time\" as a part of employment column\n",
    "df = df[df['Employment'].str.contains('Employed, full-time')]\n",
    "print(df.shape)\n",
    "df.head()"
   ],
   "metadata": {
    "collapsed": false,
    "ExecuteTime": {
     "start_time": "2023-06-03T22:08:09.586253Z",
     "end_time": "2023-06-03T22:08:09.768077Z"
    }
   }
  },
  {
   "cell_type": "code",
   "execution_count": 126,
   "outputs": [],
   "source": [
    "df.drop('Employment', axis=1, inplace=True)"
   ],
   "metadata": {
    "collapsed": false,
    "ExecuteTime": {
     "start_time": "2023-06-03T22:08:09.630186Z",
     "end_time": "2023-06-03T22:08:09.778612Z"
    }
   }
  },
  {
   "cell_type": "code",
   "execution_count": 127,
   "outputs": [
    {
     "name": "stdout",
     "output_type": "stream",
     "text": [
      "<class 'pandas.core.frame.DataFrame'>\n",
      "Index: 34209 entries, 2 to 73121\n",
      "Data columns (total 5 columns):\n",
      " #   Column        Non-Null Count  Dtype  \n",
      "---  ------        --------------  -----  \n",
      " 0   Country       34209 non-null  object \n",
      " 1   Age           34209 non-null  object \n",
      " 2   EdLevel       34209 non-null  object \n",
      " 3   YearsCodePro  34209 non-null  object \n",
      " 4   Salary        34209 non-null  float64\n",
      "dtypes: float64(1), object(4)\n",
      "memory usage: 1.6+ MB\n"
     ]
    }
   ],
   "source": [
    "df.info()"
   ],
   "metadata": {
    "collapsed": false,
    "ExecuteTime": {
     "start_time": "2023-06-03T22:08:09.647193Z",
     "end_time": "2023-06-03T22:08:09.778612Z"
    }
   }
  },
  {
   "cell_type": "code",
   "execution_count": 128,
   "outputs": [
    {
     "data": {
      "text/plain": "Country\nUnited States of America                                8261\nGermany                                                 2539\nUnited Kingdom of Great Britain and Northern Ireland    2426\nIndia                                                   2046\nCanada                                                  1359\nFrance                                                  1201\nBrazil                                                  1160\nSpain                                                    919\nNetherlands                                              749\nPoland                                                   748\nName: count, dtype: int64"
     },
     "execution_count": 128,
     "metadata": {},
     "output_type": "execute_result"
    }
   ],
   "source": [
    "df['Country'].value_counts().head(10)"
   ],
   "metadata": {
    "collapsed": false,
    "ExecuteTime": {
     "start_time": "2023-06-03T22:08:09.664805Z",
     "end_time": "2023-06-03T22:08:09.779612Z"
    }
   }
  },
  {
   "cell_type": "code",
   "execution_count": 129,
   "outputs": [],
   "source": [
    "def shorten_categories(categories, cutoff):\n",
    "    categorical_map = {}\n",
    "    for i in range(len(categories)):\n",
    "        if categories.values[i] >= cutoff:\n",
    "            categorical_map[categories.index[i]] = categories.index[i]\n",
    "        else:\n",
    "            categorical_map[categories.index[i]] = 'Other'\n",
    "    return categorical_map"
   ],
   "metadata": {
    "collapsed": false,
    "ExecuteTime": {
     "start_time": "2023-06-03T22:08:09.678016Z",
     "end_time": "2023-06-03T22:08:09.779612Z"
    }
   }
  },
  {
   "cell_type": "code",
   "execution_count": 130,
   "outputs": [
    {
     "data": {
      "text/plain": "array(['United Kingdom of Great Britain and Northern Ireland', 'Other',\n       'Netherlands', 'United States of America', 'Italy', 'Canada',\n       'Germany', 'Poland', 'France', 'Brazil', 'Spain', 'India',\n       'Australia'], dtype=object)"
     },
     "execution_count": 130,
     "metadata": {},
     "output_type": "execute_result"
    }
   ],
   "source": [
    "map_country = shorten_categories(df.Country.value_counts(), 600)\n",
    "df['Country'] = df['Country'].map(map_country)\n",
    "df.Country.unique()"
   ],
   "metadata": {
    "collapsed": false,
    "ExecuteTime": {
     "start_time": "2023-06-03T22:08:09.699175Z",
     "end_time": "2023-06-03T22:08:09.780612Z"
    }
   }
  },
  {
   "cell_type": "code",
   "execution_count": 131,
   "outputs": [
    {
     "data": {
      "text/plain": "                                              Country              Age  \\\n2   United Kingdom of Great Britain and Northern I...  25-34 years old   \n3                                               Other  35-44 years old   \n8                                         Netherlands  25-34 years old   \n10  United Kingdom of Great Britain and Northern I...  18-24 years old   \n11                           United States of America  35-44 years old   \n\n                                            EdLevel YearsCodePro    Salary  \n2   Master’s degree (M.A., M.S., M.Eng., MBA, etc.)            5   40205.0  \n3      Bachelor’s degree (B.A., B.S., B.Eng., etc.)           17  215232.0  \n8   Master’s degree (M.A., M.S., M.Eng., MBA, etc.)            6   49056.0  \n10     Bachelor’s degree (B.A., B.S., B.Eng., etc.)            2   60307.0  \n11     Bachelor’s degree (B.A., B.S., B.Eng., etc.)           10  194400.0  ",
      "text/html": "<div>\n<style scoped>\n    .dataframe tbody tr th:only-of-type {\n        vertical-align: middle;\n    }\n\n    .dataframe tbody tr th {\n        vertical-align: top;\n    }\n\n    .dataframe thead th {\n        text-align: right;\n    }\n</style>\n<table border=\"1\" class=\"dataframe\">\n  <thead>\n    <tr style=\"text-align: right;\">\n      <th></th>\n      <th>Country</th>\n      <th>Age</th>\n      <th>EdLevel</th>\n      <th>YearsCodePro</th>\n      <th>Salary</th>\n    </tr>\n  </thead>\n  <tbody>\n    <tr>\n      <th>2</th>\n      <td>United Kingdom of Great Britain and Northern I...</td>\n      <td>25-34 years old</td>\n      <td>Master’s degree (M.A., M.S., M.Eng., MBA, etc.)</td>\n      <td>5</td>\n      <td>40205.0</td>\n    </tr>\n    <tr>\n      <th>3</th>\n      <td>Other</td>\n      <td>35-44 years old</td>\n      <td>Bachelor’s degree (B.A., B.S., B.Eng., etc.)</td>\n      <td>17</td>\n      <td>215232.0</td>\n    </tr>\n    <tr>\n      <th>8</th>\n      <td>Netherlands</td>\n      <td>25-34 years old</td>\n      <td>Master’s degree (M.A., M.S., M.Eng., MBA, etc.)</td>\n      <td>6</td>\n      <td>49056.0</td>\n    </tr>\n    <tr>\n      <th>10</th>\n      <td>United Kingdom of Great Britain and Northern I...</td>\n      <td>18-24 years old</td>\n      <td>Bachelor’s degree (B.A., B.S., B.Eng., etc.)</td>\n      <td>2</td>\n      <td>60307.0</td>\n    </tr>\n    <tr>\n      <th>11</th>\n      <td>United States of America</td>\n      <td>35-44 years old</td>\n      <td>Bachelor’s degree (B.A., B.S., B.Eng., etc.)</td>\n      <td>10</td>\n      <td>194400.0</td>\n    </tr>\n  </tbody>\n</table>\n</div>"
     },
     "execution_count": 131,
     "metadata": {},
     "output_type": "execute_result"
    }
   ],
   "source": [
    "df.head()"
   ],
   "metadata": {
    "collapsed": false,
    "ExecuteTime": {
     "start_time": "2023-06-03T22:08:09.712620Z",
     "end_time": "2023-06-03T22:08:09.862859Z"
    }
   }
  },
  {
   "cell_type": "code",
   "execution_count": 132,
   "outputs": [
    {
     "data": {
      "text/plain": "Country\nOther                                                   11355\nUnited States of America                                 8261\nGermany                                                  2539\nUnited Kingdom of Great Britain and Northern Ireland     2426\nIndia                                                    2046\nCanada                                                   1359\nFrance                                                   1201\nBrazil                                                   1160\nSpain                                                     919\nNetherlands                                               749\nPoland                                                    748\nAustralia                                                 738\nItaly                                                     708\nName: count, dtype: int64"
     },
     "execution_count": 132,
     "metadata": {},
     "output_type": "execute_result"
    }
   ],
   "source": [
    "df.Country.value_counts()"
   ],
   "metadata": {
    "collapsed": false,
    "ExecuteTime": {
     "start_time": "2023-06-03T22:08:09.728934Z",
     "end_time": "2023-06-03T22:08:09.892963Z"
    }
   }
  },
  {
   "cell_type": "code",
   "execution_count": 133,
   "outputs": [
    {
     "data": {
      "text/plain": "<Figure size 1200x700 with 1 Axes>",
      "image/png": "[encoded data removed]"
     },
     "metadata": {},
     "output_type": "display_data"
    }
   ],
   "source": [
    "fig, ax = plt.subplots(1,1, figsize=(12,7))\n",
    "df.boxplot('Salary', 'Country', ax=ax)\n",
    "plt.suptitle('USD Salary Distributions by Country')\n",
    "plt.title('')\n",
    "plt.yscale('log')\n",
    "plt.ylabel('Salary in USD')\n",
    "plt.xticks(rotation=90)\n",
    "plt.show()"
   ],
   "metadata": {
    "collapsed": false,
    "ExecuteTime": {
     "start_time": "2023-06-03T22:08:09.740026Z",
     "end_time": "2023-06-03T22:08:10.084349Z"
    }
   }
  },
  {
   "cell_type": "code",
   "execution_count": 134,
   "outputs": [
    {
     "name": "stdout",
     "output_type": "stream",
     "text": [
      "(31728, 5)\n"
     ]
    }
   ],
   "source": [
    "df = df[df['Salary'] < 300000]\n",
    "df = df[df['Salary'] > 1000]\n",
    "print(df.shape)"
   ],
   "metadata": {
    "collapsed": false,
    "ExecuteTime": {
     "start_time": "2023-06-03T22:08:10.086939Z",
     "end_time": "2023-06-03T22:08:10.279099Z"
    }
   }
  },
  {
   "cell_type": "code",
   "execution_count": 135,
   "outputs": [
    {
     "data": {
      "text/plain": "<Figure size 1200x700 with 1 Axes>",
      "image/png": "[encoded data removed]"
     },
     "metadata": {},
     "output_type": "display_data"
    }
   ],
   "source": [
    "fig, ax = plt.subplots(1,1, figsize=(12,7))\n",
    "df.boxplot('Salary', 'Country', ax=ax)\n",
    "plt.suptitle('USD Salary Distributions by Country')\n",
    "plt.title('')\n",
    "plt.yscale('log')\n",
    "plt.ylabel('Salary in USD')\n",
    "plt.xticks(rotation=90)\n",
    "plt.show()"
   ],
   "metadata": {
    "collapsed": false,
    "ExecuteTime": {
     "start_time": "2023-06-03T22:08:10.119782Z",
     "end_time": "2023-06-03T22:08:10.567380Z"
    }
   }
  },
  {
   "cell_type": "code",
   "execution_count": 136,
   "outputs": [
    {
     "data": {
      "text/plain": "                                              Country              Age  \\\n2   United Kingdom of Great Britain and Northern I...  25-34 years old   \n3                                               Other  35-44 years old   \n8                                         Netherlands  25-34 years old   \n10  United Kingdom of Great Britain and Northern I...  18-24 years old   \n11                           United States of America  35-44 years old   \n\n                                            EdLevel  YearsCodePro    Salary  \n2   Master’s degree (M.A., M.S., M.Eng., MBA, etc.)           5.0   40205.0  \n3      Bachelor’s degree (B.A., B.S., B.Eng., etc.)          17.0  215232.0  \n8   Master’s degree (M.A., M.S., M.Eng., MBA, etc.)           6.0   49056.0  \n10     Bachelor’s degree (B.A., B.S., B.Eng., etc.)           2.0   60307.0  \n11     Bachelor’s degree (B.A., B.S., B.Eng., etc.)          10.0  194400.0  ",
      "text/html": "<div>\n<style scoped>\n    .dataframe tbody tr th:only-of-type {\n        vertical-align: middle;\n    }\n\n    .dataframe tbody tr th {\n        vertical-align: top;\n    }\n\n    .dataframe thead th {\n        text-align: right;\n    }\n</style>\n<table border=\"1\" class=\"dataframe\">\n  <thead>\n    <tr style=\"text-align: right;\">\n      <th></th>\n      <th>Country</th>\n      <th>Age</th>\n      <th>EdLevel</th>\n      <th>YearsCodePro</th>\n      <th>Salary</th>\n    </tr>\n  </thead>\n  <tbody>\n    <tr>\n      <th>2</th>\n      <td>United Kingdom of Great Britain and Northern I...</td>\n      <td>25-34 years old</td>\n      <td>Master’s degree (M.A., M.S., M.Eng., MBA, etc.)</td>\n      <td>5.0</td>\n      <td>40205.0</td>\n    </tr>\n    <tr>\n      <th>3</th>\n      <td>Other</td>\n      <td>35-44 years old</td>\n      <td>Bachelor’s degree (B.A., B.S., B.Eng., etc.)</td>\n      <td>17.0</td>\n      <td>215232.0</td>\n    </tr>\n    <tr>\n      <th>8</th>\n      <td>Netherlands</td>\n      <td>25-34 years old</td>\n      <td>Master’s degree (M.A., M.S., M.Eng., MBA, etc.)</td>\n      <td>6.0</td>\n      <td>49056.0</td>\n    </tr>\n    <tr>\n      <th>10</th>\n      <td>United Kingdom of Great Britain and Northern I...</td>\n      <td>18-24 years old</td>\n      <td>Bachelor’s degree (B.A., B.S., B.Eng., etc.)</td>\n      <td>2.0</td>\n      <td>60307.0</td>\n    </tr>\n    <tr>\n      <th>11</th>\n      <td>United States of America</td>\n      <td>35-44 years old</td>\n      <td>Bachelor’s degree (B.A., B.S., B.Eng., etc.)</td>\n      <td>10.0</td>\n      <td>194400.0</td>\n    </tr>\n  </tbody>\n</table>\n</div>"
     },
     "execution_count": 136,
     "metadata": {},
     "output_type": "execute_result"
    }
   ],
   "source": [
    "df['YearsCodePro'].replace('Less than 1 year', 0, inplace=True)\n",
    "df['YearsCodePro'].replace('More than 50 years', 51, inplace=True)\n",
    "df['YearsCodePro'] = df['YearsCodePro'].astype(float)\n",
    "df.head()"
   ],
   "metadata": {
    "collapsed": false,
    "ExecuteTime": {
     "start_time": "2023-06-03T22:08:10.569712Z",
     "end_time": "2023-06-03T22:08:10.760222Z"
    }
   }
  },
  {
   "cell_type": "code",
   "execution_count": 137,
   "outputs": [
    {
     "data": {
      "text/plain": "array(['25-34 years old', '35-44 years old', '18-24 years old',\n       '45-54 years old', '55-64 years old', '65 years or older',\n       'Prefer not to say', 'Under 18 years old'], dtype=object)"
     },
     "execution_count": 137,
     "metadata": {},
     "output_type": "execute_result"
    }
   ],
   "source": [
    "df['Age'].unique()"
   ],
   "metadata": {
    "collapsed": false,
    "ExecuteTime": {
     "start_time": "2023-06-03T22:08:10.598335Z",
     "end_time": "2023-06-03T22:08:10.760222Z"
    }
   }
  },
  {
   "cell_type": "code",
   "execution_count": 138,
   "outputs": [
    {
     "name": "stdout",
     "output_type": "stream",
     "text": [
      "(31687, 5)\n"
     ]
    },
    {
     "data": {
      "text/plain": "                                              Country              Age  \\\n2   United Kingdom of Great Britain and Northern I...  25-34 years old   \n3                                               Other  35-44 years old   \n8                                         Netherlands  25-34 years old   \n10  United Kingdom of Great Britain and Northern I...  18-24 years old   \n11                           United States of America  35-44 years old   \n\n                                            EdLevel  YearsCodePro    Salary  \n2   Master’s degree (M.A., M.S., M.Eng., MBA, etc.)           5.0   40205.0  \n3      Bachelor’s degree (B.A., B.S., B.Eng., etc.)          17.0  215232.0  \n8   Master’s degree (M.A., M.S., M.Eng., MBA, etc.)           6.0   49056.0  \n10     Bachelor’s degree (B.A., B.S., B.Eng., etc.)           2.0   60307.0  \n11     Bachelor’s degree (B.A., B.S., B.Eng., etc.)          10.0  194400.0  ",
      "text/html": "<div>\n<style scoped>\n    .dataframe tbody tr th:only-of-type {\n        vertical-align: middle;\n    }\n\n    .dataframe tbody tr th {\n        vertical-align: top;\n    }\n\n    .dataframe thead th {\n        text-align: right;\n    }\n</style>\n<table border=\"1\" class=\"dataframe\">\n  <thead>\n    <tr style=\"text-align: right;\">\n      <th></th>\n      <th>Country</th>\n      <th>Age</th>\n      <th>EdLevel</th>\n      <th>YearsCodePro</th>\n      <th>Salary</th>\n    </tr>\n  </thead>\n  <tbody>\n    <tr>\n      <th>2</th>\n      <td>United Kingdom of Great Britain and Northern I...</td>\n      <td>25-34 years old</td>\n      <td>Master’s degree (M.A., M.S., M.Eng., MBA, etc.)</td>\n      <td>5.0</td>\n      <td>40205.0</td>\n    </tr>\n    <tr>\n      <th>3</th>\n      <td>Other</td>\n      <td>35-44 years old</td>\n      <td>Bachelor’s degree (B.A., B.S., B.Eng., etc.)</td>\n      <td>17.0</td>\n      <td>215232.0</td>\n    </tr>\n    <tr>\n      <th>8</th>\n      <td>Netherlands</td>\n      <td>25-34 years old</td>\n      <td>Master’s degree (M.A., M.S., M.Eng., MBA, etc.)</td>\n      <td>6.0</td>\n      <td>49056.0</td>\n    </tr>\n    <tr>\n      <th>10</th>\n      <td>United Kingdom of Great Britain and Northern I...</td>\n      <td>18-24 years old</td>\n      <td>Bachelor’s degree (B.A., B.S., B.Eng., etc.)</td>\n      <td>2.0</td>\n      <td>60307.0</td>\n    </tr>\n    <tr>\n      <th>11</th>\n      <td>United States of America</td>\n      <td>35-44 years old</td>\n      <td>Bachelor’s degree (B.A., B.S., B.Eng., etc.)</td>\n      <td>10.0</td>\n      <td>194400.0</td>\n    </tr>\n  </tbody>\n</table>\n</div>"
     },
     "execution_count": 138,
     "metadata": {},
     "output_type": "execute_result"
    }
   ],
   "source": [
    "df = df[df['Age'] != 'Prefer not to say']\n",
    "print(df.shape)\n",
    "df.head()"
   ],
   "metadata": {
    "collapsed": false,
    "ExecuteTime": {
     "start_time": "2023-06-03T22:08:10.613278Z",
     "end_time": "2023-06-03T22:08:10.760222Z"
    }
   }
  },
  {
   "cell_type": "code",
   "execution_count": 139,
   "outputs": [
    {
     "data": {
      "text/plain": "                                              Country   Age  \\\n2   United Kingdom of Great Britain and Northern I...  30.0   \n3                                               Other  40.0   \n8                                         Netherlands  30.0   \n10  United Kingdom of Great Britain and Northern I...  22.0   \n11                           United States of America  40.0   \n\n                                            EdLevel  YearsCodePro    Salary  \n2   Master’s degree (M.A., M.S., M.Eng., MBA, etc.)           5.0   40205.0  \n3      Bachelor’s degree (B.A., B.S., B.Eng., etc.)          17.0  215232.0  \n8   Master’s degree (M.A., M.S., M.Eng., MBA, etc.)           6.0   49056.0  \n10     Bachelor’s degree (B.A., B.S., B.Eng., etc.)           2.0   60307.0  \n11     Bachelor’s degree (B.A., B.S., B.Eng., etc.)          10.0  194400.0  ",
      "text/html": "<div>\n<style scoped>\n    .dataframe tbody tr th:only-of-type {\n        vertical-align: middle;\n    }\n\n    .dataframe tbody tr th {\n        vertical-align: top;\n    }\n\n    .dataframe thead th {\n        text-align: right;\n    }\n</style>\n<table border=\"1\" class=\"dataframe\">\n  <thead>\n    <tr style=\"text-align: right;\">\n      <th></th>\n      <th>Country</th>\n      <th>Age</th>\n      <th>EdLevel</th>\n      <th>YearsCodePro</th>\n      <th>Salary</th>\n    </tr>\n  </thead>\n  <tbody>\n    <tr>\n      <th>2</th>\n      <td>United Kingdom of Great Britain and Northern I...</td>\n      <td>30.0</td>\n      <td>Master’s degree (M.A., M.S., M.Eng., MBA, etc.)</td>\n      <td>5.0</td>\n      <td>40205.0</td>\n    </tr>\n    <tr>\n      <th>3</th>\n      <td>Other</td>\n      <td>40.0</td>\n      <td>Bachelor’s degree (B.A., B.S., B.Eng., etc.)</td>\n      <td>17.0</td>\n      <td>215232.0</td>\n    </tr>\n    <tr>\n      <th>8</th>\n      <td>Netherlands</td>\n      <td>30.0</td>\n      <td>Master’s degree (M.A., M.S., M.Eng., MBA, etc.)</td>\n      <td>6.0</td>\n      <td>49056.0</td>\n    </tr>\n    <tr>\n      <th>10</th>\n      <td>United Kingdom of Great Britain and Northern I...</td>\n      <td>22.0</td>\n      <td>Bachelor’s degree (B.A., B.S., B.Eng., etc.)</td>\n      <td>2.0</td>\n      <td>60307.0</td>\n    </tr>\n    <tr>\n      <th>11</th>\n      <td>United States of America</td>\n      <td>40.0</td>\n      <td>Bachelor’s degree (B.A., B.S., B.Eng., etc.)</td>\n      <td>10.0</td>\n      <td>194400.0</td>\n    </tr>\n  </tbody>\n</table>\n</div>"
     },
     "execution_count": 139,
     "metadata": {},
     "output_type": "execute_result"
    }
   ],
   "source": [
    "df.replace('25-34 years old', 30, inplace=True)\n",
    "df.replace('35-44 years old', 40, inplace=True)\n",
    "df.replace('18-24 years old', 22, inplace=True)\n",
    "df.replace('45-54 years old', 50, inplace=True)\n",
    "df.replace('55-64 years old', 60, inplace=True)\n",
    "df.replace('Under 18 years old', 17, inplace=True)\n",
    "df.replace('65 years or older', 65, inplace=True)\n",
    "df['Age'] = df['Age'].astype(float)\n",
    "df.head()"
   ],
   "metadata": {
    "collapsed": false,
    "ExecuteTime": {
     "start_time": "2023-06-03T22:08:10.649099Z",
     "end_time": "2023-06-03T22:08:10.760222Z"
    }
   }
  },
  {
   "cell_type": "code",
   "execution_count": 140,
   "outputs": [
    {
     "data": {
      "text/plain": "array(['Master’s degree (M.A., M.S., M.Eng., MBA, etc.)',\n       'Bachelor’s degree (B.A., B.S., B.Eng., etc.)',\n       'Secondary school (e.g. American high school, German Realschule or Gymnasium, etc.)',\n       'Something else', 'Associate degree (A.A., A.S., etc.)',\n       'Some college/university study without earning a degree',\n       'Professional degree (JD, MD, etc.)',\n       'Other doctoral degree (Ph.D., Ed.D., etc.)',\n       'Primary/elementary school'], dtype=object)"
     },
     "execution_count": 140,
     "metadata": {},
     "output_type": "execute_result"
    }
   ],
   "source": [
    "df['EdLevel'].unique()"
   ],
   "metadata": {
    "collapsed": false,
    "ExecuteTime": {
     "start_time": "2023-06-03T22:08:10.708889Z",
     "end_time": "2023-06-03T22:08:10.761225Z"
    }
   }
  },
  {
   "cell_type": "code",
   "execution_count": 141,
   "outputs": [
    {
     "name": "stdout",
     "output_type": "stream",
     "text": [
      "(31687, 5)\n"
     ]
    },
    {
     "data": {
      "text/plain": "                                              Country   Age    EdLevel  \\\n2   United Kingdom of Great Britain and Northern I...  30.0    Masters   \n3                                               Other  40.0  Bachelors   \n8                                         Netherlands  30.0    Masters   \n10  United Kingdom of Great Britain and Northern I...  22.0  Bachelors   \n11                           United States of America  40.0  Bachelors   \n\n    YearsCodePro    Salary  \n2            5.0   40205.0  \n3           17.0  215232.0  \n8            6.0   49056.0  \n10           2.0   60307.0  \n11          10.0  194400.0  ",
      "text/html": "<div>\n<style scoped>\n    .dataframe tbody tr th:only-of-type {\n        vertical-align: middle;\n    }\n\n    .dataframe tbody tr th {\n        vertical-align: top;\n    }\n\n    .dataframe thead th {\n        text-align: right;\n    }\n</style>\n<table border=\"1\" class=\"dataframe\">\n  <thead>\n    <tr style=\"text-align: right;\">\n      <th></th>\n      <th>Country</th>\n      <th>Age</th>\n      <th>EdLevel</th>\n      <th>YearsCodePro</th>\n      <th>Salary</th>\n    </tr>\n  </thead>\n  <tbody>\n    <tr>\n      <th>2</th>\n      <td>United Kingdom of Great Britain and Northern I...</td>\n      <td>30.0</td>\n      <td>Masters</td>\n      <td>5.0</td>\n      <td>40205.0</td>\n    </tr>\n    <tr>\n      <th>3</th>\n      <td>Other</td>\n      <td>40.0</td>\n      <td>Bachelors</td>\n      <td>17.0</td>\n      <td>215232.0</td>\n    </tr>\n    <tr>\n      <th>8</th>\n      <td>Netherlands</td>\n      <td>30.0</td>\n      <td>Masters</td>\n      <td>6.0</td>\n      <td>49056.0</td>\n    </tr>\n    <tr>\n      <th>10</th>\n      <td>United Kingdom of Great Britain and Northern I...</td>\n      <td>22.0</td>\n      <td>Bachelors</td>\n      <td>2.0</td>\n      <td>60307.0</td>\n    </tr>\n    <tr>\n      <th>11</th>\n      <td>United States of America</td>\n      <td>40.0</td>\n      <td>Bachelors</td>\n      <td>10.0</td>\n      <td>194400.0</td>\n    </tr>\n  </tbody>\n</table>\n</div>"
     },
     "execution_count": 141,
     "metadata": {},
     "output_type": "execute_result"
    }
   ],
   "source": [
    "def clean_education(x):\n",
    "    if 'Bachelor’s degree' in x:\n",
    "        return 'Bachelors'\n",
    "    elif 'Master’s degree' in x:\n",
    "        return 'Masters'\n",
    "    elif 'Professional degree' in x or 'Other doctoral' in x:\n",
    "        return 'Post Graduation'\n",
    "    else:\n",
    "        return 'Less than a Bachelors'\n",
    "df['EdLevel'] = df['EdLevel'].apply(clean_education)\n",
    "print(df.shape)\n",
    "df.head()"
   ],
   "metadata": {
    "collapsed": false,
    "ExecuteTime": {
     "start_time": "2023-06-03T22:08:10.741125Z",
     "end_time": "2023-06-03T22:08:10.761225Z"
    }
   }
  },
  {
   "cell_type": "code",
   "execution_count": 142,
   "outputs": [
    {
     "name": "stdout",
     "output_type": "stream",
     "text": [
      "[2 0 1 3]\n"
     ]
    },
    {
     "data": {
      "text/plain": "array(['Bachelors', 'Less than a Bachelors', 'Masters', 'Post Graduation'],\n      dtype=object)"
     },
     "execution_count": 142,
     "metadata": {},
     "output_type": "execute_result"
    }
   ],
   "source": [
    "from sklearn.preprocessing import LabelEncoder\n",
    "from numpy import ravel\n",
    "\n",
    "encoder_ed = LabelEncoder()\n",
    "df['EdLevel'] = encoder_ed.fit_transform(ravel(df[['EdLevel']].values))\n",
    "print(df.EdLevel.unique())\n",
    "encoder_ed.classes_"
   ],
   "metadata": {
    "collapsed": false,
    "ExecuteTime": {
     "start_time": "2023-06-03T22:08:10.757222Z",
     "end_time": "2023-06-03T22:08:10.779268Z"
    }
   }
  },
  {
   "cell_type": "code",
   "execution_count": 143,
   "outputs": [
    {
     "name": "stdout",
     "output_type": "stream",
     "text": [
      "[11  8  7 12  6  2  4  9  3  1 10  5  0]\n"
     ]
    }
   ],
   "source": [
    "encoder_country = LabelEncoder()\n",
    "df['Country'] = encoder_country.fit_transform(ravel(df[['Country']].values))\n",
    "print(df.Country.unique())"
   ],
   "metadata": {
    "collapsed": false,
    "ExecuteTime": {
     "start_time": "2023-06-03T22:08:10.780266Z",
     "end_time": "2023-06-03T22:08:10.865957Z"
    }
   }
  },
  {
   "cell_type": "code",
   "execution_count": 144,
   "outputs": [],
   "source": [
    "df.to_csv('clean_servey_results_public.csv', index=False)"
   ],
   "metadata": {
    "collapsed": false,
    "ExecuteTime": {
     "start_time": "2023-06-03T22:08:10.789326Z",
     "end_time": "2023-06-03T22:08:11.064022Z"
    }
   }
  },
  {
   "cell_type": "code",
   "execution_count": 145,
   "outputs": [
    {
     "data": {
      "text/plain": "   Country   Age  EdLevel  YearsCodePro    Salary\n0       11  30.0        2           5.0   40205.0\n1        8  40.0        0          17.0  215232.0\n2        7  30.0        2           6.0   49056.0\n3       11  22.0        0           2.0   60307.0\n4       12  40.0        0          10.0  194400.0",
      "text/html": "<div>\n<style scoped>\n    .dataframe tbody tr th:only-of-type {\n        vertical-align: middle;\n    }\n\n    .dataframe tbody tr th {\n        vertical-align: top;\n    }\n\n    .dataframe thead th {\n        text-align: right;\n    }\n</style>\n<table border=\"1\" class=\"dataframe\">\n  <thead>\n    <tr style=\"text-align: right;\">\n      <th></th>\n      <th>Country</th>\n      <th>Age</th>\n      <th>EdLevel</th>\n      <th>YearsCodePro</th>\n      <th>Salary</th>\n    </tr>\n  </thead>\n  <tbody>\n    <tr>\n      <th>0</th>\n      <td>11</td>\n      <td>30.0</td>\n      <td>2</td>\n      <td>5.0</td>\n      <td>40205.0</td>\n    </tr>\n    <tr>\n      <th>1</th>\n      <td>8</td>\n      <td>40.0</td>\n      <td>0</td>\n      <td>17.0</td>\n      <td>215232.0</td>\n    </tr>\n    <tr>\n      <th>2</th>\n      <td>7</td>\n      <td>30.0</td>\n      <td>2</td>\n      <td>6.0</td>\n      <td>49056.0</td>\n    </tr>\n    <tr>\n      <th>3</th>\n      <td>11</td>\n      <td>22.0</td>\n      <td>0</td>\n      <td>2.0</td>\n      <td>60307.0</td>\n    </tr>\n    <tr>\n      <th>4</th>\n      <td>12</td>\n      <td>40.0</td>\n      <td>0</td>\n      <td>10.0</td>\n      <td>194400.0</td>\n    </tr>\n  </tbody>\n</table>\n</div>"
     },
     "execution_count": 145,
     "metadata": {},
     "output_type": "execute_result"
    }
   ],
   "source": [
    "df = pd.read_csv('clean_servey_results_public.csv')\n",
    "df.head()"
   ],
   "metadata": {
    "collapsed": false,
    "ExecuteTime": {
     "start_time": "2023-06-03T22:08:10.896906Z",
     "end_time": "2023-06-03T22:08:11.162633Z"
    }
   }
  },
  {
   "cell_type": "code",
   "execution_count": 146,
   "outputs": [],
   "source": [
    "X = df.drop('Salary', axis=1)\n",
    "y = df['Salary']"
   ],
   "metadata": {
    "collapsed": false,
    "ExecuteTime": {
     "start_time": "2023-06-03T22:08:10.945148Z",
     "end_time": "2023-06-03T22:08:11.162633Z"
    }
   }
  },
  {
   "cell_type": "code",
   "execution_count": 147,
   "outputs": [],
   "source": [
    "from sklearn.model_selection import train_test_split\n",
    "X_train, X_test, y_train, y_test = train_test_split(X,y, test_size=0.2)"
   ],
   "metadata": {
    "collapsed": false,
    "ExecuteTime": {
     "start_time": "2023-06-03T22:08:10.963242Z",
     "end_time": "2023-06-03T22:08:11.195102Z"
    }
   }
  },
  {
   "cell_type": "code",
   "execution_count": 148,
   "outputs": [
    {
     "data": {
      "text/plain": "LinearRegression()",
      "text/html": "<style>#sk-container-id-9 {color: black;background-color: white;}#sk-container-id-9 pre{padding: 0;}#sk-container-id-9 div.sk-toggleable {background-color: white;}#sk-container-id-9 label.sk-toggleable__label {cursor: pointer;display: block;width: 100%;margin-bottom: 0;padding: 0.3em;box-sizing: border-box;text-align: center;}#sk-container-id-9 label.sk-toggleable__label-arrow:before {content: \"▸\";float: left;margin-right: 0.25em;color: #696969;}#sk-container-id-9 label.sk-toggleable__label-arrow:hover:before {color: black;}#sk-container-id-9 div.sk-estimator:hover label.sk-toggleable__label-arrow:before {color: black;}#sk-container-id-9 div.sk-toggleable__content {max-height: 0;max-width: 0;overflow: hidden;text-align: left;background-color: #f0f8ff;}#sk-container-id-9 div.sk-toggleable__content pre {margin: 0.2em;color: black;border-radius: 0.25em;background-color: #f0f8ff;}#sk-container-id-9 input.sk-toggleable__control:checked~div.sk-toggleable__content {max-height: 200px;max-width: 100%;overflow: auto;}#sk-container-id-9 input.sk-toggleable__control:checked~label.sk-toggleable__label-arrow:before {content: \"▾\";}#sk-container-id-9 div.sk-estimator input.sk-toggleable__control:checked~label.sk-toggleable__label {background-color: #d4ebff;}#sk-container-id-9 div.sk-label input.sk-toggleable__control:checked~label.sk-toggleable__label {background-color: #d4ebff;}#sk-container-id-9 input.sk-hidden--visually {border: 0;clip: rect(1px 1px 1px 1px);clip: rect(1px, 1px, 1px, 1px);height: 1px;margin: -1px;overflow: hidden;padding: 0;position: absolute;width: 1px;}#sk-container-id-9 div.sk-estimator {font-family: monospace;background-color: #f0f8ff;border: 1px dotted black;border-radius: 0.25em;box-sizing: border-box;margin-bottom: 0.5em;}#sk-container-id-9 div.sk-estimator:hover {background-color: #d4ebff;}#sk-container-id-9 div.sk-parallel-item::after {content: \"\";width: 100%;border-bottom: 1px solid gray;flex-grow: 1;}#sk-container-id-9 div.sk-label:hover label.sk-toggleable__label {background-color: #d4ebff;}#sk-container-id-9 div.sk-serial::before {content: \"\";position: absolute;border-left: 1px solid gray;box-sizing: border-box;top: 0;bottom: 0;left: 50%;z-index: 0;}#sk-container-id-9 div.sk-serial {display: flex;flex-direction: column;align-items: center;background-color: white;padding-right: 0.2em;padding-left: 0.2em;position: relative;}#sk-container-id-9 div.sk-item {position: relative;z-index: 1;}#sk-container-id-9 div.sk-parallel {display: flex;align-items: stretch;justify-content: center;background-color: white;position: relative;}#sk-container-id-9 div.sk-item::before, #sk-container-id-9 div.sk-parallel-item::before {content: \"\";position: absolute;border-left: 1px solid gray;box-sizing: border-box;top: 0;bottom: 0;left: 50%;z-index: -1;}#sk-container-id-9 div.sk-parallel-item {display: flex;flex-direction: column;z-index: 1;position: relative;background-color: white;}#sk-container-id-9 div.sk-parallel-item:first-child::after {align-self: flex-end;width: 50%;}#sk-container-id-9 div.sk-parallel-item:last-child::after {align-self: flex-start;width: 50%;}#sk-container-id-9 div.sk-parallel-item:only-child::after {width: 0;}#sk-container-id-9 div.sk-dashed-wrapped {border: 1px dashed gray;margin: 0 0.4em 0.5em 0.4em;box-sizing: border-box;padding-bottom: 0.4em;background-color: white;}#sk-container-id-9 div.sk-label label {font-family: monospace;font-weight: bold;display: inline-block;line-height: 1.2em;}#sk-container-id-9 div.sk-label-container {text-align: center;}#sk-container-id-9 div.sk-container {/* jupyter's `normalize.less` sets `[hidden] { display: none; }` but bootstrap.min.css set `[hidden] { display: none !important; }` so we also need the `!important` here to be able to override the default hidden behavior on the sphinx rendered scikit-learn.org. See: https://github.com/scikit-learn/scikit-learn/issues/21755 */display: inline-block !important;position: relative;}#sk-container-id-9 div.sk-text-repr-fallback {display: none;}</style><div id=\"sk-container-id-9\" class=\"sk-top-container\"><div class=\"sk-text-repr-fallback\"><pre>LinearRegression()</pre><b>In a Jupyter environment, please rerun this cell to show the HTML representation or trust the notebook. <br />On GitHub, the HTML representation is unable to render, please try loading this page with nbviewer.org.</b></div><div class=\"sk-container\" hidden><div class=\"sk-item\"><div class=\"sk-estimator sk-toggleable\"><input class=\"sk-toggleable__control sk-hidden--visually\" id=\"sk-estimator-id-13\" type=\"checkbox\" checked><label for=\"sk-estimator-id-13\" class=\"sk-toggleable__label sk-toggleable__label-arrow\">LinearRegression</label><div class=\"sk-toggleable__content\"><pre>LinearRegression()</pre></div></div></div></div></div>"
     },
     "execution_count": 148,
     "metadata": {},
     "output_type": "execute_result"
    }
   ],
   "source": [
    "from sklearn.linear_model import LinearRegression\n",
    "model_lr = LinearRegression()\n",
    "model_lr.fit(X_train.values, y_train)"
   ],
   "metadata": {
    "collapsed": false,
    "ExecuteTime": {
     "start_time": "2023-06-03T22:08:10.972502Z",
     "end_time": "2023-06-03T22:08:11.200573Z"
    }
   }
  },
  {
   "cell_type": "code",
   "execution_count": 149,
   "outputs": [
    {
     "name": "stdout",
     "output_type": "stream",
     "text": [
      "MAE:  37993.3622933952\n",
      "MSE:  2397663492.2459087\n",
      "RMSE:  48965.94216642736\n"
     ]
    }
   ],
   "source": [
    "from sklearn.metrics import mean_squared_error, mean_absolute_error\n",
    "import numpy as np\n",
    "y_pred = model_lr.predict(X_test.values)\n",
    "print('MAE: ', mean_absolute_error(y_test, y_pred))\n",
    "print('MSE: ', mean_squared_error(y_test, y_pred))\n",
    "print('RMSE: ', np.sqrt(mean_squared_error(y_test, y_pred)))"
   ],
   "metadata": {
    "collapsed": false,
    "ExecuteTime": {
     "start_time": "2023-06-03T22:08:10.992230Z",
     "end_time": "2023-06-03T22:08:11.200573Z"
    }
   }
  },
  {
   "cell_type": "code",
   "execution_count": 150,
   "outputs": [
    {
     "data": {
      "text/plain": "DecisionTreeRegressor()",
      "text/html": "<style>#sk-container-id-10 {color: black;background-color: white;}#sk-container-id-10 pre{padding: 0;}#sk-container-id-10 div.sk-toggleable {background-color: white;}#sk-container-id-10 label.sk-toggleable__label {cursor: pointer;display: block;width: 100%;margin-bottom: 0;padding: 0.3em;box-sizing: border-box;text-align: center;}#sk-container-id-10 label.sk-toggleable__label-arrow:before {content: \"▸\";float: left;margin-right: 0.25em;color: #696969;}#sk-container-id-10 label.sk-toggleable__label-arrow:hover:before {color: black;}#sk-container-id-10 div.sk-estimator:hover label.sk-toggleable__label-arrow:before {color: black;}#sk-container-id-10 div.sk-toggleable__content {max-height: 0;max-width: 0;overflow: hidden;text-align: left;background-color: #f0f8ff;}#sk-container-id-10 div.sk-toggleable__content pre {margin: 0.2em;color: black;border-radius: 0.25em;background-color: #f0f8ff;}#sk-container-id-10 input.sk-toggleable__control:checked~div.sk-toggleable__content {max-height: 200px;max-width: 100%;overflow: auto;}#sk-container-id-10 input.sk-toggleable__control:checked~label.sk-toggleable__label-arrow:before {content: \"▾\";}#sk-container-id-10 div.sk-estimator input.sk-toggleable__control:checked~label.sk-toggleable__label {background-color: #d4ebff;}#sk-container-id-10 div.sk-label input.sk-toggleable__control:checked~label.sk-toggleable__label {background-color: #d4ebff;}#sk-container-id-10 input.sk-hidden--visually {border: 0;clip: rect(1px 1px 1px 1px);clip: rect(1px, 1px, 1px, 1px);height: 1px;margin: -1px;overflow: hidden;padding: 0;position: absolute;width: 1px;}#sk-container-id-10 div.sk-estimator {font-family: monospace;background-color: #f0f8ff;border: 1px dotted black;border-radius: 0.25em;box-sizing: border-box;margin-bottom: 0.5em;}#sk-container-id-10 div.sk-estimator:hover {background-color: #d4ebff;}#sk-container-id-10 div.sk-parallel-item::after {content: \"\";width: 100%;border-bottom: 1px solid gray;flex-grow: 1;}#sk-container-id-10 div.sk-label:hover label.sk-toggleable__label {background-color: #d4ebff;}#sk-container-id-10 div.sk-serial::before {content: \"\";position: absolute;border-left: 1px solid gray;box-sizing: border-box;top: 0;bottom: 0;left: 50%;z-index: 0;}#sk-container-id-10 div.sk-serial {display: flex;flex-direction: column;align-items: center;background-color: white;padding-right: 0.2em;padding-left: 0.2em;position: relative;}#sk-container-id-10 div.sk-item {position: relative;z-index: 1;}#sk-container-id-10 div.sk-parallel {display: flex;align-items: stretch;justify-content: center;background-color: white;position: relative;}#sk-container-id-10 div.sk-item::before, #sk-container-id-10 div.sk-parallel-item::before {content: \"\";position: absolute;border-left: 1px solid gray;box-sizing: border-box;top: 0;bottom: 0;left: 50%;z-index: -1;}#sk-container-id-10 div.sk-parallel-item {display: flex;flex-direction: column;z-index: 1;position: relative;background-color: white;}#sk-container-id-10 div.sk-parallel-item:first-child::after {align-self: flex-end;width: 50%;}#sk-container-id-10 div.sk-parallel-item:last-child::after {align-self: flex-start;width: 50%;}#sk-container-id-10 div.sk-parallel-item:only-child::after {width: 0;}#sk-container-id-10 div.sk-dashed-wrapped {border: 1px dashed gray;margin: 0 0.4em 0.5em 0.4em;box-sizing: border-box;padding-bottom: 0.4em;background-color: white;}#sk-container-id-10 div.sk-label label {font-family: monospace;font-weight: bold;display: inline-block;line-height: 1.2em;}#sk-container-id-10 div.sk-label-container {text-align: center;}#sk-container-id-10 div.sk-container {/* jupyter's `normalize.less` sets `[hidden] { display: none; }` but bootstrap.min.css set `[hidden] { display: none !important; }` so we also need the `!important` here to be able to override the default hidden behavior on the sphinx rendered scikit-learn.org. See: https://github.com/scikit-learn/scikit-learn/issues/21755 */display: inline-block !important;position: relative;}#sk-container-id-10 div.sk-text-repr-fallback {display: none;}</style><div id=\"sk-container-id-10\" class=\"sk-top-container\"><div class=\"sk-text-repr-fallback\"><pre>DecisionTreeRegressor()</pre><b>In a Jupyter environment, please rerun this cell to show the HTML representation or trust the notebook. <br />On GitHub, the HTML representation is unable to render, please try loading this page with nbviewer.org.</b></div><div class=\"sk-container\" hidden><div class=\"sk-item\"><div class=\"sk-estimator sk-toggleable\"><input class=\"sk-toggleable__control sk-hidden--visually\" id=\"sk-estimator-id-14\" type=\"checkbox\" checked><label for=\"sk-estimator-id-14\" class=\"sk-toggleable__label sk-toggleable__label-arrow\">DecisionTreeRegressor</label><div class=\"sk-toggleable__content\"><pre>DecisionTreeRegressor()</pre></div></div></div></div></div>"
     },
     "execution_count": 150,
     "metadata": {},
     "output_type": "execute_result"
    }
   ],
   "source": [
    "from sklearn.tree import DecisionTreeRegressor\n",
    "model_dt = DecisionTreeRegressor()\n",
    "model_dt.fit(X_train.values, y_train)\n"
   ],
   "metadata": {
    "collapsed": false,
    "ExecuteTime": {
     "start_time": "2023-06-03T22:08:11.007028Z",
     "end_time": "2023-06-03T22:08:11.200573Z"
    }
   }
  },
  {
   "cell_type": "code",
   "execution_count": 151,
   "outputs": [
    {
     "name": "stdout",
     "output_type": "stream",
     "text": [
      "MAE:  28874.78974164263\n",
      "MSE:  1678247033.6184134\n",
      "RMSE:  40966.41348249091\n"
     ]
    }
   ],
   "source": [
    "y_pred = model_dt.predict(X_test.values)\n",
    "print('MAE: ', mean_absolute_error(y_test, y_pred))\n",
    "print('MSE: ', mean_squared_error(y_test, y_pred))\n",
    "print('RMSE: ', np.sqrt(mean_squared_error(y_test, y_pred)))"
   ],
   "metadata": {
    "collapsed": false,
    "ExecuteTime": {
     "start_time": "2023-06-03T22:08:11.055893Z",
     "end_time": "2023-06-03T22:08:11.212173Z"
    }
   }
  },
  {
   "cell_type": "code",
   "execution_count": 152,
   "outputs": [
    {
     "data": {
      "text/plain": "RandomForestRegressor()",
      "text/html": "<style>#sk-container-id-11 {color: black;background-color: white;}#sk-container-id-11 pre{padding: 0;}#sk-container-id-11 div.sk-toggleable {background-color: white;}#sk-container-id-11 label.sk-toggleable__label {cursor: pointer;display: block;width: 100%;margin-bottom: 0;padding: 0.3em;box-sizing: border-box;text-align: center;}#sk-container-id-11 label.sk-toggleable__label-arrow:before {content: \"▸\";float: left;margin-right: 0.25em;color: #696969;}#sk-container-id-11 label.sk-toggleable__label-arrow:hover:before {color: black;}#sk-container-id-11 div.sk-estimator:hover label.sk-toggleable__label-arrow:before {color: black;}#sk-container-id-11 div.sk-toggleable__content {max-height: 0;max-width: 0;overflow: hidden;text-align: left;background-color: #f0f8ff;}#sk-container-id-11 div.sk-toggleable__content pre {margin: 0.2em;color: black;border-radius: 0.25em;background-color: #f0f8ff;}#sk-container-id-11 input.sk-toggleable__control:checked~div.sk-toggleable__content {max-height: 200px;max-width: 100%;overflow: auto;}#sk-container-id-11 input.sk-toggleable__control:checked~label.sk-toggleable__label-arrow:before {content: \"▾\";}#sk-container-id-11 div.sk-estimator input.sk-toggleable__control:checked~label.sk-toggleable__label {background-color: #d4ebff;}#sk-container-id-11 div.sk-label input.sk-toggleable__control:checked~label.sk-toggleable__label {background-color: #d4ebff;}#sk-container-id-11 input.sk-hidden--visually {border: 0;clip: rect(1px 1px 1px 1px);clip: rect(1px, 1px, 1px, 1px);height: 1px;margin: -1px;overflow: hidden;padding: 0;position: absolute;width: 1px;}#sk-container-id-11 div.sk-estimator {font-family: monospace;background-color: #f0f8ff;border: 1px dotted black;border-radius: 0.25em;box-sizing: border-box;margin-bottom: 0.5em;}#sk-container-id-11 div.sk-estimator:hover {background-color: #d4ebff;}#sk-container-id-11 div.sk-parallel-item::after {content: \"\";width: 100%;border-bottom: 1px solid gray;flex-grow: 1;}#sk-container-id-11 div.sk-label:hover label.sk-toggleable__label {background-color: #d4ebff;}#sk-container-id-11 div.sk-serial::before {content: \"\";position: absolute;border-left: 1px solid gray;box-sizing: border-box;top: 0;bottom: 0;left: 50%;z-index: 0;}#sk-container-id-11 div.sk-serial {display: flex;flex-direction: column;align-items: center;background-color: white;padding-right: 0.2em;padding-left: 0.2em;position: relative;}#sk-container-id-11 div.sk-item {position: relative;z-index: 1;}#sk-container-id-11 div.sk-parallel {display: flex;align-items: stretch;justify-content: center;background-color: white;position: relative;}#sk-container-id-11 div.sk-item::before, #sk-container-id-11 div.sk-parallel-item::before {content: \"\";position: absolute;border-left: 1px solid gray;box-sizing: border-box;top: 0;bottom: 0;left: 50%;z-index: -1;}#sk-container-id-11 div.sk-parallel-item {display: flex;flex-direction: column;z-index: 1;position: relative;background-color: white;}#sk-container-id-11 div.sk-parallel-item:first-child::after {align-self: flex-end;width: 50%;}#sk-container-id-11 div.sk-parallel-item:last-child::after {align-self: flex-start;width: 50%;}#sk-container-id-11 div.sk-parallel-item:only-child::after {width: 0;}#sk-container-id-11 div.sk-dashed-wrapped {border: 1px dashed gray;margin: 0 0.4em 0.5em 0.4em;box-sizing: border-box;padding-bottom: 0.4em;background-color: white;}#sk-container-id-11 div.sk-label label {font-family: monospace;font-weight: bold;display: inline-block;line-height: 1.2em;}#sk-container-id-11 div.sk-label-container {text-align: center;}#sk-container-id-11 div.sk-container {/* jupyter's `normalize.less` sets `[hidden] { display: none; }` but bootstrap.min.css set `[hidden] { display: none !important; }` so we also need the `!important` here to be able to override the default hidden behavior on the sphinx rendered scikit-learn.org. See: https://github.com/scikit-learn/scikit-learn/issues/21755 */display: inline-block !important;position: relative;}#sk-container-id-11 div.sk-text-repr-fallback {display: none;}</style><div id=\"sk-container-id-11\" class=\"sk-top-container\"><div class=\"sk-text-repr-fallback\"><pre>RandomForestRegressor()</pre><b>In a Jupyter environment, please rerun this cell to show the HTML representation or trust the notebook. <br />On GitHub, the HTML representation is unable to render, please try loading this page with nbviewer.org.</b></div><div class=\"sk-container\" hidden><div class=\"sk-item\"><div class=\"sk-estimator sk-toggleable\"><input class=\"sk-toggleable__control sk-hidden--visually\" id=\"sk-estimator-id-15\" type=\"checkbox\" checked><label for=\"sk-estimator-id-15\" class=\"sk-toggleable__label sk-toggleable__label-arrow\">RandomForestRegressor</label><div class=\"sk-toggleable__content\"><pre>RandomForestRegressor()</pre></div></div></div></div></div>"
     },
     "execution_count": 152,
     "metadata": {},
     "output_type": "execute_result"
    }
   ],
   "source": [
    "from sklearn.ensemble import RandomForestRegressor\n",
    "model_rf = RandomForestRegressor()\n",
    "model_rf.fit(X_train.values, y_train)"
   ],
   "metadata": {
    "collapsed": false,
    "ExecuteTime": {
     "start_time": "2023-06-03T22:08:11.070757Z",
     "end_time": "2023-06-03T22:08:13.176462Z"
    }
   }
  },
  {
   "cell_type": "code",
   "execution_count": 153,
   "outputs": [
    {
     "name": "stdout",
     "output_type": "stream",
     "text": [
      "MAE:  28334.284923687414\n",
      "MSE:  1601785105.681224\n",
      "RMSE:  40022.30760065222\n"
     ]
    }
   ],
   "source": [
    "y_pred = model_rf.predict(X_test.values)\n",
    "print('MAE: ', mean_absolute_error(y_test, y_pred))\n",
    "print('MSE: ', mean_squared_error(y_test, y_pred))\n",
    "print('RMSE: ', np.sqrt(mean_squared_error(y_test, y_pred)))"
   ],
   "metadata": {
    "collapsed": false,
    "ExecuteTime": {
     "start_time": "2023-06-03T22:08:13.179465Z",
     "end_time": "2023-06-03T22:08:13.285225Z"
    }
   }
  },
  {
   "cell_type": "code",
   "execution_count": 154,
   "outputs": [
    {
     "data": {
      "text/plain": "GridSearchCV(cv=5, estimator=DecisionTreeRegressor(),\n             param_grid={'max_depth': [None, 2, 4, 6, 8, 10, 12]},\n             return_train_score=True, scoring='neg_mean_squared_error')",
      "text/html": "<style>#sk-container-id-12 {color: black;background-color: white;}#sk-container-id-12 pre{padding: 0;}#sk-container-id-12 div.sk-toggleable {background-color: white;}#sk-container-id-12 label.sk-toggleable__label {cursor: pointer;display: block;width: 100%;margin-bottom: 0;padding: 0.3em;box-sizing: border-box;text-align: center;}#sk-container-id-12 label.sk-toggleable__label-arrow:before {content: \"▸\";float: left;margin-right: 0.25em;color: #696969;}#sk-container-id-12 label.sk-toggleable__label-arrow:hover:before {color: black;}#sk-container-id-12 div.sk-estimator:hover label.sk-toggleable__label-arrow:before {color: black;}#sk-container-id-12 div.sk-toggleable__content {max-height: 0;max-width: 0;overflow: hidden;text-align: left;background-color: #f0f8ff;}#sk-container-id-12 div.sk-toggleable__content pre {margin: 0.2em;color: black;border-radius: 0.25em;background-color: #f0f8ff;}#sk-container-id-12 input.sk-toggleable__control:checked~div.sk-toggleable__content {max-height: 200px;max-width: 100%;overflow: auto;}#sk-container-id-12 input.sk-toggleable__control:checked~label.sk-toggleable__label-arrow:before {content: \"▾\";}#sk-container-id-12 div.sk-estimator input.sk-toggleable__control:checked~label.sk-toggleable__label {background-color: #d4ebff;}#sk-container-id-12 div.sk-label input.sk-toggleable__control:checked~label.sk-toggleable__label {background-color: #d4ebff;}#sk-container-id-12 input.sk-hidden--visually {border: 0;clip: rect(1px 1px 1px 1px);clip: rect(1px, 1px, 1px, 1px);height: 1px;margin: -1px;overflow: hidden;padding: 0;position: absolute;width: 1px;}#sk-container-id-12 div.sk-estimator {font-family: monospace;background-color: #f0f8ff;border: 1px dotted black;border-radius: 0.25em;box-sizing: border-box;margin-bottom: 0.5em;}#sk-container-id-12 div.sk-estimator:hover {background-color: #d4ebff;}#sk-container-id-12 div.sk-parallel-item::after {content: \"\";width: 100%;border-bottom: 1px solid gray;flex-grow: 1;}#sk-container-id-12 div.sk-label:hover label.sk-toggleable__label {background-color: #d4ebff;}#sk-container-id-12 div.sk-serial::before {content: \"\";position: absolute;border-left: 1px solid gray;box-sizing: border-box;top: 0;bottom: 0;left: 50%;z-index: 0;}#sk-container-id-12 div.sk-serial {display: flex;flex-direction: column;align-items: center;background-color: white;padding-right: 0.2em;padding-left: 0.2em;position: relative;}#sk-container-id-12 div.sk-item {position: relative;z-index: 1;}#sk-container-id-12 div.sk-parallel {display: flex;align-items: stretch;justify-content: center;background-color: white;position: relative;}#sk-container-id-12 div.sk-item::before, #sk-container-id-12 div.sk-parallel-item::before {content: \"\";position: absolute;border-left: 1px solid gray;box-sizing: border-box;top: 0;bottom: 0;left: 50%;z-index: -1;}#sk-container-id-12 div.sk-parallel-item {display: flex;flex-direction: column;z-index: 1;position: relative;background-color: white;}#sk-container-id-12 div.sk-parallel-item:first-child::after {align-self: flex-end;width: 50%;}#sk-container-id-12 div.sk-parallel-item:last-child::after {align-self: flex-start;width: 50%;}#sk-container-id-12 div.sk-parallel-item:only-child::after {width: 0;}#sk-container-id-12 div.sk-dashed-wrapped {border: 1px dashed gray;margin: 0 0.4em 0.5em 0.4em;box-sizing: border-box;padding-bottom: 0.4em;background-color: white;}#sk-container-id-12 div.sk-label label {font-family: monospace;font-weight: bold;display: inline-block;line-height: 1.2em;}#sk-container-id-12 div.sk-label-container {text-align: center;}#sk-container-id-12 div.sk-container {/* jupyter's `normalize.less` sets `[hidden] { display: none; }` but bootstrap.min.css set `[hidden] { display: none !important; }` so we also need the `!important` here to be able to override the default hidden behavior on the sphinx rendered scikit-learn.org. See: https://github.com/scikit-learn/scikit-learn/issues/21755 */display: inline-block !important;position: relative;}#sk-container-id-12 div.sk-text-repr-fallback {display: none;}</style><div id=\"sk-container-id-12\" class=\"sk-top-container\"><div class=\"sk-text-repr-fallback\"><pre>GridSearchCV(cv=5, estimator=DecisionTreeRegressor(),\n             param_grid={&#x27;max_depth&#x27;: [None, 2, 4, 6, 8, 10, 12]},\n             return_train_score=True, scoring=&#x27;neg_mean_squared_error&#x27;)</pre><b>In a Jupyter environment, please rerun this cell to show the HTML representation or trust the notebook. <br />On GitHub, the HTML representation is unable to render, please try loading this page with nbviewer.org.</b></div><div class=\"sk-container\" hidden><div class=\"sk-item sk-dashed-wrapped\"><div class=\"sk-label-container\"><div class=\"sk-label sk-toggleable\"><input class=\"sk-toggleable__control sk-hidden--visually\" id=\"sk-estimator-id-16\" type=\"checkbox\" ><label for=\"sk-estimator-id-16\" class=\"sk-toggleable__label sk-toggleable__label-arrow\">GridSearchCV</label><div class=\"sk-toggleable__content\"><pre>GridSearchCV(cv=5, estimator=DecisionTreeRegressor(),\n             param_grid={&#x27;max_depth&#x27;: [None, 2, 4, 6, 8, 10, 12]},\n             return_train_score=True, scoring=&#x27;neg_mean_squared_error&#x27;)</pre></div></div></div><div class=\"sk-parallel\"><div class=\"sk-parallel-item\"><div class=\"sk-item\"><div class=\"sk-label-container\"><div class=\"sk-label sk-toggleable\"><input class=\"sk-toggleable__control sk-hidden--visually\" id=\"sk-estimator-id-17\" type=\"checkbox\" ><label for=\"sk-estimator-id-17\" class=\"sk-toggleable__label sk-toggleable__label-arrow\">estimator: DecisionTreeRegressor</label><div class=\"sk-toggleable__content\"><pre>DecisionTreeRegressor()</pre></div></div></div><div class=\"sk-serial\"><div class=\"sk-item\"><div class=\"sk-estimator sk-toggleable\"><input class=\"sk-toggleable__control sk-hidden--visually\" id=\"sk-estimator-id-18\" type=\"checkbox\" ><label for=\"sk-estimator-id-18\" class=\"sk-toggleable__label sk-toggleable__label-arrow\">DecisionTreeRegressor</label><div class=\"sk-toggleable__content\"><pre>DecisionTreeRegressor()</pre></div></div></div></div></div></div></div></div></div></div>"
     },
     "execution_count": 154,
     "metadata": {},
     "output_type": "execute_result"
    }
   ],
   "source": [
    "from sklearn.model_selection import GridSearchCV\n",
    "max_depth = [None, 2, 4, 6, 8, 10, 12]\n",
    "param_grid = {'max_depth': max_depth}\n",
    "\n",
    "regressor = DecisionTreeRegressor()\n",
    "grid_search = GridSearchCV(regressor, param_grid, cv=5, scoring='neg_mean_squared_error', return_train_score=True)\n",
    "grid_search"
   ],
   "metadata": {
    "collapsed": false,
    "ExecuteTime": {
     "start_time": "2023-06-03T22:08:13.290677Z",
     "end_time": "2023-06-03T22:08:13.330037Z"
    }
   }
  },
  {
   "cell_type": "code",
   "execution_count": 155,
   "outputs": [
    {
     "name": "stdout",
     "output_type": "stream",
     "text": [
      "MAE:  27728.134519401647\n",
      "MSE:  1505223258.982987\n",
      "RMSE:  38797.206845119494\n"
     ]
    }
   ],
   "source": [
    "grid_search.fit(X_train, y_train)\n",
    "regressor = grid_search.best_estimator_\n",
    "regressor.fit(X_train.values, y_train)\n",
    "y_pred = regressor.predict(X_test.values)\n",
    "print('MAE: ', mean_absolute_error(y_test, y_pred))\n",
    "print('MSE: ', mean_squared_error(y_test, y_pred))\n",
    "print('RMSE: ', np.sqrt(mean_squared_error(y_test, y_pred)))"
   ],
   "metadata": {
    "collapsed": false,
    "ExecuteTime": {
     "start_time": "2023-06-03T22:08:13.309830Z",
     "end_time": "2023-06-03T22:08:13.880049Z"
    }
   }
  },
  {
   "cell_type": "code",
   "execution_count": 156,
   "outputs": [],
   "source": [
    "import pickle\n",
    "data = {'Linear': model_lr, 'Decision': model_dt, 'RandomForest': model_rf, 'Grid': regressor, 'le_country': encoder_country, 'le_ed': encoder_ed, 'n_input': 4}\n",
    "with open('model_regressor.pkl', 'wb') as file:\n",
    "    pickle.dump(data, file)"
   ],
   "metadata": {
    "collapsed": false,
    "ExecuteTime": {
     "start_time": "2023-06-03T22:08:13.881048Z",
     "end_time": "2023-06-03T22:08:13.953977Z"
    }
   }
  },
  {
   "cell_type": "code",
   "execution_count": 157,
   "outputs": [],
   "source": [
    "import torch\n",
    "import torch.nn as nn"
   ],
   "metadata": {
    "collapsed": false,
    "ExecuteTime": {
     "start_time": "2023-06-03T22:08:13.928261Z",
     "end_time": "2023-06-03T22:08:13.966018Z"
    }
   }
  },
  {
   "cell_type": "code",
   "execution_count": 158,
   "outputs": [],
   "source": [
    "X_train_pt = torch.from_numpy(X_train.to_numpy()).float()\n",
    "X_test_pt = torch.from_numpy(X_test.to_numpy()).float()\n",
    "y_train_pt = torch.from_numpy(y_train.to_numpy()).float().view(-1,1)\n",
    "y_test_pt = torch.from_numpy(y_test.to_numpy()).float().view(-1,1)\n",
    "X_pt = torch.from_numpy(X.to_numpy()).float()\n",
    "y_pt = torch.from_numpy(y.to_numpy()).float().view(-1,1)"
   ],
   "metadata": {
    "collapsed": false,
    "ExecuteTime": {
     "start_time": "2023-06-03T22:08:13.944816Z",
     "end_time": "2023-06-03T22:08:13.966018Z"
    }
   }
  },
  {
   "cell_type": "code",
   "execution_count": 159,
   "outputs": [
    {
     "name": "stdout",
     "output_type": "stream",
     "text": [
      "torch.Size([25349, 4]) torch.Size([25349, 1]) torch.Size([6338, 4]) torch.Size([6338, 1])\n"
     ]
    }
   ],
   "source": [
    "print(X_train_pt.shape, y_train_pt.shape, X_test_pt.shape, y_test_pt.shape)"
   ],
   "metadata": {
    "collapsed": false,
    "ExecuteTime": {
     "start_time": "2023-06-03T22:08:13.958990Z",
     "end_time": "2023-06-03T22:08:13.982178Z"
    }
   }
  },
  {
   "cell_type": "code",
   "execution_count": 160,
   "outputs": [
    {
     "name": "stdout",
     "output_type": "stream",
     "text": [
      "4\n"
     ]
    }
   ],
   "source": [
    "input_size = X_train_pt.shape[1]\n",
    "print(input_size)"
   ],
   "metadata": {
    "collapsed": false,
    "ExecuteTime": {
     "start_time": "2023-06-03T22:08:13.973147Z",
     "end_time": "2023-06-03T22:08:14.047870Z"
    }
   }
  },
  {
   "cell_type": "code",
   "execution_count": 161,
   "outputs": [],
   "source": [
    "class SalaryPredict(nn.Module):\n",
    "    def __init__(self, n_input_features):\n",
    "        super().__init__()\n",
    "        self.l1 = nn.Linear(n_input_features, 128)\n",
    "        self.relu1 = nn.ReLU()\n",
    "        self.l2 = nn.Linear(128, 64)\n",
    "        self.relu2 = nn.ReLU()\n",
    "        self.l3 = nn.Linear(64, 32)\n",
    "        self.relu3 = nn.LeakyReLU()\n",
    "        self.l4 = nn.Linear(32, 16)\n",
    "        self.relu4 = nn.LeakyReLU()\n",
    "        self.l5 = nn.Linear(16, 8)\n",
    "        self.relu5 = nn.LeakyReLU()\n",
    "        self.l6 = nn.Linear(8, 1)\n",
    "\n",
    "\n",
    "    def forward(self, x):\n",
    "        x = self.l1(x)\n",
    "        x = self.relu1(x)\n",
    "        x = self.l2(x)\n",
    "        x = self.relu2(x)\n",
    "        x = self.l3(x)\n",
    "        x = self.relu3(x)\n",
    "        x = self.l4(x)\n",
    "        x = self.relu4(x)\n",
    "        x = self.l5(x)\n",
    "        x = self.relu5(x)\n",
    "        x = self.l6(x)\n",
    "        return x"
   ],
   "metadata": {
    "collapsed": false,
    "ExecuteTime": {
     "start_time": "2023-06-03T22:08:13.995211Z",
     "end_time": "2023-06-03T22:08:14.065008Z"
    }
   }
  },
  {
   "cell_type": "code",
   "execution_count": 162,
   "outputs": [
    {
     "data": {
      "text/plain": "device(type='cpu')"
     },
     "execution_count": 162,
     "metadata": {},
     "output_type": "execute_result"
    }
   ],
   "source": [
    "device = torch.device('cuda' if torch.cuda.is_available() else 'cpu')\n",
    "device"
   ],
   "metadata": {
    "collapsed": false,
    "ExecuteTime": {
     "start_time": "2023-06-03T22:08:14.007258Z",
     "end_time": "2023-06-03T22:08:14.066015Z"
    }
   }
  },
  {
   "cell_type": "code",
   "execution_count": 163,
   "outputs": [],
   "source": [
    "model = SalaryPredict(input_size)"
   ],
   "metadata": {
    "collapsed": false,
    "ExecuteTime": {
     "start_time": "2023-06-03T22:08:14.021294Z",
     "end_time": "2023-06-03T22:08:14.066015Z"
    }
   }
  },
  {
   "cell_type": "code",
   "execution_count": 164,
   "outputs": [],
   "source": [
    "criterion = nn.MSELoss()"
   ],
   "metadata": {
    "collapsed": false,
    "ExecuteTime": {
     "start_time": "2023-06-03T22:08:14.039359Z",
     "end_time": "2023-06-03T22:08:14.066015Z"
    }
   }
  },
  {
   "cell_type": "code",
   "execution_count": 165,
   "outputs": [],
   "source": [
    "optimizer = torch.optim.Adam(model.parameters(), lr=0.01)"
   ],
   "metadata": {
    "collapsed": false,
    "ExecuteTime": {
     "start_time": "2023-06-03T22:08:14.052873Z",
     "end_time": "2023-06-03T22:08:14.067023Z"
    }
   }
  },
  {
   "cell_type": "code",
   "execution_count": 166,
   "outputs": [],
   "source": [
    "epochs = 30000"
   ],
   "metadata": {
    "collapsed": false,
    "ExecuteTime": {
     "start_time": "2023-06-03T22:08:14.069021Z",
     "end_time": "2023-06-03T22:08:14.141900Z"
    }
   }
  },
  {
   "cell_type": "code",
   "execution_count": 167,
   "outputs": [
    {
     "name": "stdout",
     "output_type": "stream",
     "text": [
      "0:00:00.098209 | Epoch: 0, Model Loss: 9229234176.0\n",
      "0:00:10.079929 | Epoch: 100, Model Loss: 2519397120.0\n",
      "0:00:19.439367 | Epoch: 200, Model Loss: 2197045504.0\n",
      "0:00:29.000831 | Epoch: 300, Model Loss: 2045909504.0\n",
      "0:00:39.094077 | Epoch: 400, Model Loss: 1975667072.0\n",
      "0:00:49.416188 | Epoch: 500, Model Loss: 1859299968.0\n",
      "0:00:59.758231 | Epoch: 600, Model Loss: 1765502080.0\n",
      "0:01:09.937471 | Epoch: 700, Model Loss: 1754532992.0\n",
      "0:01:19.558150 | Epoch: 800, Model Loss: 1684594304.0\n",
      "0:01:28.569970 | Epoch: 900, Model Loss: 1669384832.0\n",
      "0:01:37.622432 | Epoch: 1000, Model Loss: 1624990720.0\n",
      "0:01:46.615846 | Epoch: 1100, Model Loss: 1615090176.0\n",
      "0:01:55.644873 | Epoch: 1200, Model Loss: 1609241216.0\n",
      "0:02:06.846694 | Epoch: 1300, Model Loss: 1604747776.0\n",
      "0:02:17.832461 | Epoch: 1400, Model Loss: 1602753024.0\n",
      "0:02:28.726845 | Epoch: 1500, Model Loss: 1605586560.0\n",
      "0:02:39.625964 | Epoch: 1600, Model Loss: 1601540864.0\n",
      "0:02:50.599005 | Epoch: 1700, Model Loss: 1602999296.0\n",
      "0:03:03.298104 | Epoch: 1800, Model Loss: 1595928704.0\n",
      "0:03:14.109461 | Epoch: 1900, Model Loss: 1595131264.0\n",
      "0:03:25.168775 | Epoch: 2000, Model Loss: 1593667712.0\n",
      "0:03:36.429460 | Epoch: 2100, Model Loss: 1593348480.0\n",
      "0:03:47.804417 | Epoch: 2200, Model Loss: 1597639296.0\n",
      "0:03:58.773247 | Epoch: 2300, Model Loss: 1605046656.0\n",
      "0:04:09.808172 | Epoch: 2400, Model Loss: 1593258368.0\n",
      "0:04:20.822263 | Epoch: 2500, Model Loss: 1594361856.0\n",
      "0:04:32.054014 | Epoch: 2600, Model Loss: 1589720192.0\n",
      "0:04:44.712260 | Epoch: 2700, Model Loss: 1590415488.0\n",
      "0:04:55.628455 | Epoch: 2800, Model Loss: 1592685568.0\n",
      "0:05:03.418928 | Epoch: 2900, Model Loss: 1585520512.0\n",
      "0:05:10.888744 | Epoch: 3000, Model Loss: 1586331392.0\n",
      "0:05:19.268247 | Epoch: 3100, Model Loss: 1585491328.0\n",
      "0:05:27.340104 | Epoch: 3200, Model Loss: 1583758464.0\n",
      "0:05:35.493010 | Epoch: 3300, Model Loss: 1582985728.0\n",
      "0:05:43.546237 | Epoch: 3400, Model Loss: 1583213824.0\n",
      "0:05:51.974974 | Epoch: 3500, Model Loss: 1583767680.0\n",
      "0:06:00.341663 | Epoch: 3600, Model Loss: 1581457280.0\n",
      "0:06:08.532211 | Epoch: 3700, Model Loss: 1582882176.0\n",
      "0:06:16.273012 | Epoch: 3800, Model Loss: 1580574464.0\n",
      "0:06:24.325658 | Epoch: 3900, Model Loss: 1581411712.0\n",
      "0:06:32.342756 | Epoch: 4000, Model Loss: 1579989376.0\n",
      "0:06:41.048945 | Epoch: 4100, Model Loss: 1590976128.0\n",
      "0:06:49.950312 | Epoch: 4200, Model Loss: 1579223296.0\n",
      "0:06:56.538344 | Epoch: 4300, Model Loss: 1591193600.0\n",
      "0:07:03.659134 | Epoch: 4400, Model Loss: 1578767616.0\n",
      "0:07:14.138186 | Epoch: 4500, Model Loss: 1587648640.0\n",
      "0:07:23.668499 | Epoch: 4600, Model Loss: 1589170176.0\n",
      "0:07:31.929968 | Epoch: 4700, Model Loss: 1577482880.0\n",
      "0:07:40.768685 | Epoch: 4800, Model Loss: 1579103872.0\n",
      "0:07:49.112196 | Epoch: 4900, Model Loss: 1576471808.0\n",
      "0:07:57.661864 | Epoch: 5000, Model Loss: 1580316800.0\n",
      "0:08:04.139526 | Epoch: 5100, Model Loss: 1575867392.0\n",
      "0:08:10.137662 | Epoch: 5200, Model Loss: 1581000064.0\n",
      "0:08:16.769157 | Epoch: 5300, Model Loss: 1576023424.0\n",
      "0:08:24.934943 | Epoch: 5400, Model Loss: 1575885568.0\n",
      "0:08:30.867452 | Epoch: 5500, Model Loss: 1576956288.0\n",
      "0:08:37.013145 | Epoch: 5600, Model Loss: 1725185536.0\n",
      "0:08:44.174205 | Epoch: 5700, Model Loss: 1574832000.0\n",
      "0:08:50.857310 | Epoch: 5800, Model Loss: 1579127168.0\n",
      "0:08:57.862953 | Epoch: 5900, Model Loss: 1574566016.0\n",
      "0:09:04.694909 | Epoch: 6000, Model Loss: 1585804544.0\n",
      "0:09:11.796798 | Epoch: 6100, Model Loss: 1577213312.0\n",
      "0:09:18.793092 | Epoch: 6200, Model Loss: 1576826880.0\n",
      "0:09:25.997729 | Epoch: 6300, Model Loss: 1575108480.0\n",
      "0:09:32.829878 | Epoch: 6400, Model Loss: 1585941888.0\n",
      "0:09:39.717994 | Epoch: 6500, Model Loss: 1579875328.0\n",
      "0:09:46.639141 | Epoch: 6600, Model Loss: 1578955520.0\n",
      "0:09:53.785827 | Epoch: 6700, Model Loss: 1575808128.0\n",
      "0:10:00.662429 | Epoch: 6800, Model Loss: 1573461504.0\n",
      "0:10:07.296474 | Epoch: 6900, Model Loss: 1572965632.0\n",
      "0:10:13.828476 | Epoch: 7000, Model Loss: 1573499776.0\n",
      "0:10:20.401087 | Epoch: 7100, Model Loss: 1576192768.0\n",
      "0:10:27.281468 | Epoch: 7200, Model Loss: 1573343872.0\n",
      "0:10:33.694208 | Epoch: 7300, Model Loss: 1574263424.0\n",
      "0:10:39.875330 | Epoch: 7400, Model Loss: 1570867584.0\n",
      "0:10:46.656031 | Epoch: 7500, Model Loss: 1578223360.0\n",
      "0:10:54.140760 | Epoch: 7600, Model Loss: 1574752640.0\n",
      "0:11:01.669834 | Epoch: 7700, Model Loss: 1572165120.0\n",
      "0:11:08.181580 | Epoch: 7800, Model Loss: 1570472832.0\n",
      "0:11:14.575309 | Epoch: 7900, Model Loss: 1573559808.0\n",
      "0:11:21.129664 | Epoch: 8000, Model Loss: 1578896640.0\n",
      "0:11:27.791863 | Epoch: 8100, Model Loss: 1587300480.0\n",
      "0:11:34.263903 | Epoch: 8200, Model Loss: 1667742464.0\n",
      "0:11:40.791809 | Epoch: 8300, Model Loss: 1566171136.0\n",
      "0:11:47.398638 | Epoch: 8400, Model Loss: 1587363712.0\n",
      "0:11:54.496175 | Epoch: 8500, Model Loss: 1568809088.0\n",
      "0:12:00.517758 | Epoch: 8600, Model Loss: 1578659712.0\n",
      "0:12:08.615591 | Epoch: 8700, Model Loss: 1567214464.0\n",
      "0:12:16.018270 | Epoch: 8800, Model Loss: 1561594752.0\n",
      "0:12:22.901684 | Epoch: 8900, Model Loss: 1560767616.0\n",
      "0:12:29.493508 | Epoch: 9000, Model Loss: 1573324032.0\n",
      "0:12:36.232847 | Epoch: 9100, Model Loss: 1574076032.0\n",
      "0:12:43.422570 | Epoch: 9200, Model Loss: 1560482816.0\n",
      "0:12:51.657797 | Epoch: 9300, Model Loss: 1564522624.0\n",
      "0:12:58.828455 | Epoch: 9400, Model Loss: 1558706816.0\n",
      "0:13:05.418180 | Epoch: 9500, Model Loss: 1561338624.0\n",
      "0:13:12.942861 | Epoch: 9600, Model Loss: 1561039872.0\n",
      "0:13:21.130594 | Epoch: 9700, Model Loss: 1592646912.0\n",
      "0:13:28.016740 | Epoch: 9800, Model Loss: 1564689792.0\n",
      "0:13:34.381615 | Epoch: 9900, Model Loss: 1557591168.0\n",
      "0:13:40.722618 | Epoch: 10000, Model Loss: 1560870272.0\n",
      "0:13:46.911151 | Epoch: 10100, Model Loss: 1551359488.0\n",
      "0:13:52.754797 | Epoch: 10200, Model Loss: 1551660032.0\n",
      "0:13:58.448519 | Epoch: 10300, Model Loss: 1553019008.0\n",
      "0:14:04.249863 | Epoch: 10400, Model Loss: 1553740160.0\n",
      "0:14:09.935820 | Epoch: 10500, Model Loss: 1559394304.0\n",
      "0:14:15.620511 | Epoch: 10600, Model Loss: 1559003520.0\n",
      "0:14:21.338237 | Epoch: 10700, Model Loss: 1551974400.0\n",
      "0:14:27.248785 | Epoch: 10800, Model Loss: 1569320448.0\n",
      "0:14:33.374677 | Epoch: 10900, Model Loss: 1547224960.0\n",
      "0:14:39.691658 | Epoch: 11000, Model Loss: 1554558976.0\n",
      "0:14:45.991668 | Epoch: 11100, Model Loss: 1550658560.0\n",
      "0:14:51.880071 | Epoch: 11200, Model Loss: 1593469440.0\n",
      "0:14:59.222681 | Epoch: 11300, Model Loss: 1557951488.0\n",
      "0:15:06.911207 | Epoch: 11400, Model Loss: 1556974976.0\n",
      "0:15:15.378721 | Epoch: 11500, Model Loss: 1568996864.0\n",
      "0:15:23.160871 | Epoch: 11600, Model Loss: 1544920448.0\n",
      "0:15:30.728194 | Epoch: 11700, Model Loss: 1546603776.0\n",
      "0:15:38.732967 | Epoch: 11800, Model Loss: 1543136128.0\n",
      "0:15:47.106514 | Epoch: 11900, Model Loss: 1547203968.0\n",
      "0:15:55.889015 | Epoch: 12000, Model Loss: 1547220352.0\n",
      "0:16:04.280452 | Epoch: 12100, Model Loss: 1554893824.0\n",
      "0:16:12.586136 | Epoch: 12200, Model Loss: 1562546304.0\n",
      "0:16:21.039618 | Epoch: 12300, Model Loss: 1562690176.0\n",
      "0:16:30.171360 | Epoch: 12400, Model Loss: 1541096448.0\n",
      "0:16:38.886399 | Epoch: 12500, Model Loss: 1544545536.0\n",
      "0:16:46.902439 | Epoch: 12600, Model Loss: 1540367744.0\n",
      "0:16:55.624902 | Epoch: 12700, Model Loss: 1546769664.0\n",
      "0:17:04.170912 | Epoch: 12800, Model Loss: 1554307328.0\n",
      "0:17:12.824451 | Epoch: 12900, Model Loss: 1543446144.0\n",
      "0:17:20.802396 | Epoch: 13000, Model Loss: 1541104512.0\n",
      "0:17:29.965332 | Epoch: 13100, Model Loss: 1555620224.0\n",
      "0:17:38.373801 | Epoch: 13200, Model Loss: 1539859328.0\n",
      "0:17:46.297904 | Epoch: 13300, Model Loss: 1544472448.0\n",
      "0:17:53.387648 | Epoch: 13400, Model Loss: 1537620352.0\n",
      "0:18:00.000616 | Epoch: 13500, Model Loss: 1542833280.0\n",
      "0:18:06.440497 | Epoch: 13600, Model Loss: 1546900608.0\n",
      "0:18:12.796582 | Epoch: 13700, Model Loss: 1540558080.0\n",
      "0:18:18.648683 | Epoch: 13800, Model Loss: 1537122304.0\n",
      "0:18:24.848434 | Epoch: 13900, Model Loss: 1537798656.0\n",
      "0:18:30.997883 | Epoch: 14000, Model Loss: 1535785344.0\n",
      "0:18:37.078388 | Epoch: 14100, Model Loss: 1535686784.0\n",
      "0:18:42.800611 | Epoch: 14200, Model Loss: 1535323264.0\n",
      "0:18:48.925979 | Epoch: 14300, Model Loss: 1541699584.0\n",
      "0:18:54.742972 | Epoch: 14400, Model Loss: 1535378432.0\n",
      "0:19:00.490182 | Epoch: 14500, Model Loss: 1537542912.0\n",
      "0:19:06.243854 | Epoch: 14600, Model Loss: 1548479360.0\n",
      "0:19:11.832661 | Epoch: 14700, Model Loss: 1537636736.0\n",
      "0:19:17.467629 | Epoch: 14800, Model Loss: 1534745856.0\n",
      "0:19:23.146193 | Epoch: 14900, Model Loss: 1543163264.0\n",
      "0:19:28.771786 | Epoch: 15000, Model Loss: 1533297024.0\n",
      "0:19:34.372392 | Epoch: 15100, Model Loss: 1531586304.0\n",
      "0:19:39.976909 | Epoch: 15200, Model Loss: 1536749312.0\n",
      "0:19:46.530260 | Epoch: 15300, Model Loss: 1537808768.0\n",
      "0:19:54.707611 | Epoch: 15400, Model Loss: 1531006336.0\n",
      "0:20:01.654732 | Epoch: 15500, Model Loss: 1530561920.0\n",
      "0:20:08.482331 | Epoch: 15600, Model Loss: 1561846400.0\n",
      "0:20:15.793600 | Epoch: 15700, Model Loss: 1537281664.0\n",
      "0:20:22.733419 | Epoch: 15800, Model Loss: 1528616064.0\n",
      "0:20:29.636719 | Epoch: 15900, Model Loss: 1528471808.0\n",
      "0:20:37.696627 | Epoch: 16000, Model Loss: 1541830656.0\n",
      "0:20:44.926832 | Epoch: 16100, Model Loss: 1530369664.0\n",
      "0:20:51.651853 | Epoch: 16200, Model Loss: 1531800064.0\n",
      "0:20:58.629562 | Epoch: 16300, Model Loss: 1528647040.0\n",
      "0:21:05.094680 | Epoch: 16400, Model Loss: 1525598208.0\n",
      "0:21:12.250514 | Epoch: 16500, Model Loss: 1534983040.0\n",
      "0:21:19.416687 | Epoch: 16600, Model Loss: 1530928640.0\n",
      "0:21:25.742491 | Epoch: 16700, Model Loss: 1540089856.0\n",
      "0:21:32.090625 | Epoch: 16800, Model Loss: 1526121728.0\n",
      "0:21:40.216625 | Epoch: 16900, Model Loss: 1531563392.0\n",
      "0:21:47.295290 | Epoch: 17000, Model Loss: 1522125184.0\n",
      "0:21:54.090799 | Epoch: 17100, Model Loss: 1526852608.0\n",
      "0:22:01.041732 | Epoch: 17200, Model Loss: 1539890432.0\n",
      "0:22:09.097313 | Epoch: 17300, Model Loss: 1521027968.0\n",
      "0:22:16.877967 | Epoch: 17400, Model Loss: 1518880640.0\n",
      "0:22:23.556327 | Epoch: 17500, Model Loss: 1536692224.0\n",
      "0:22:30.511954 | Epoch: 17600, Model Loss: 1519734528.0\n",
      "0:22:37.350401 | Epoch: 17700, Model Loss: 1520145920.0\n",
      "0:22:44.495697 | Epoch: 17800, Model Loss: 1516008960.0\n",
      "0:22:51.396955 | Epoch: 17900, Model Loss: 1521549824.0\n",
      "0:22:58.149726 | Epoch: 18000, Model Loss: 1511138432.0\n",
      "0:23:05.000533 | Epoch: 18100, Model Loss: 1524509312.0\n",
      "0:23:11.781933 | Epoch: 18200, Model Loss: 1516699904.0\n",
      "0:23:18.674410 | Epoch: 18300, Model Loss: 1528350976.0\n",
      "0:23:26.033239 | Epoch: 18400, Model Loss: 1511315584.0\n",
      "0:23:33.658408 | Epoch: 18500, Model Loss: 1518903168.0\n",
      "0:23:41.469588 | Epoch: 18600, Model Loss: 1507711488.0\n",
      "0:23:49.699571 | Epoch: 18700, Model Loss: 1521746816.0\n",
      "0:23:56.773627 | Epoch: 18800, Model Loss: 1554526976.0\n",
      "0:24:03.777085 | Epoch: 18900, Model Loss: 1509904640.0\n",
      "0:24:12.869204 | Epoch: 19000, Model Loss: 1523730688.0\n",
      "0:24:19.724267 | Epoch: 19100, Model Loss: 1503134464.0\n",
      "0:24:27.534890 | Epoch: 19200, Model Loss: 1503893504.0\n",
      "0:24:34.573667 | Epoch: 19300, Model Loss: 1506970368.0\n",
      "0:24:41.923114 | Epoch: 19400, Model Loss: 1509011840.0\n",
      "0:24:50.017761 | Epoch: 19500, Model Loss: 1519123584.0\n",
      "0:24:56.814718 | Epoch: 19600, Model Loss: 1504431744.0\n",
      "0:25:03.763552 | Epoch: 19700, Model Loss: 1503766528.0\n",
      "0:25:10.925616 | Epoch: 19800, Model Loss: 1501354624.0\n",
      "0:25:18.102138 | Epoch: 19900, Model Loss: 1504408960.0\n",
      "0:25:25.101937 | Epoch: 20000, Model Loss: 1501816448.0\n",
      "0:25:32.058382 | Epoch: 20100, Model Loss: 1528983168.0\n",
      "0:25:39.398695 | Epoch: 20200, Model Loss: 1500590720.0\n",
      "0:25:46.288033 | Epoch: 20300, Model Loss: 1516316288.0\n",
      "0:25:53.083532 | Epoch: 20400, Model Loss: 1506913152.0\n",
      "0:26:00.013264 | Epoch: 20500, Model Loss: 1503362432.0\n",
      "0:26:07.122136 | Epoch: 20600, Model Loss: 1502316416.0\n",
      "0:26:13.985588 | Epoch: 20700, Model Loss: 1509009408.0\n",
      "0:26:20.990024 | Epoch: 20800, Model Loss: 1503880320.0\n",
      "0:26:28.292435 | Epoch: 20900, Model Loss: 1502798720.0\n",
      "0:26:35.377915 | Epoch: 21000, Model Loss: 1502334720.0\n",
      "0:26:42.264538 | Epoch: 21100, Model Loss: 1529032192.0\n",
      "0:26:49.138810 | Epoch: 21200, Model Loss: 1531383552.0\n",
      "0:26:55.977691 | Epoch: 21300, Model Loss: 1495474432.0\n",
      "0:27:02.773527 | Epoch: 21400, Model Loss: 1510079104.0\n",
      "0:27:09.703354 | Epoch: 21500, Model Loss: 1516411904.0\n",
      "0:27:16.820269 | Epoch: 21600, Model Loss: 1498419584.0\n",
      "0:27:23.680039 | Epoch: 21700, Model Loss: 1498220032.0\n",
      "0:27:30.526818 | Epoch: 21800, Model Loss: 1510590720.0\n",
      "0:27:37.420558 | Epoch: 21900, Model Loss: 1493463424.0\n",
      "0:27:44.762967 | Epoch: 22000, Model Loss: 1503448064.0\n",
      "0:27:52.843066 | Epoch: 22100, Model Loss: 1535074816.0\n",
      "0:28:01.009861 | Epoch: 22200, Model Loss: 1511112192.0\n",
      "0:28:09.920942 | Epoch: 22300, Model Loss: 1508495488.0\n",
      "0:28:16.261849 | Epoch: 22400, Model Loss: 1491790976.0\n",
      "0:28:22.412635 | Epoch: 22500, Model Loss: 1494557568.0\n",
      "0:28:28.818386 | Epoch: 22600, Model Loss: 1502135936.0\n",
      "0:28:34.943870 | Epoch: 22700, Model Loss: 1493675264.0\n",
      "0:28:40.754632 | Epoch: 22800, Model Loss: 1531572096.0\n",
      "0:28:46.903973 | Epoch: 22900, Model Loss: 1490588928.0\n",
      "0:28:53.162558 | Epoch: 23000, Model Loss: 1490032128.0\n",
      "0:28:59.487682 | Epoch: 23100, Model Loss: 1493874944.0\n",
      "0:29:05.407787 | Epoch: 23200, Model Loss: 1490968576.0\n",
      "0:29:11.338814 | Epoch: 23300, Model Loss: 1496094848.0\n",
      "0:29:17.796635 | Epoch: 23400, Model Loss: 1491305216.0\n",
      "0:29:24.307642 | Epoch: 23500, Model Loss: 1521893632.0\n",
      "0:29:30.309980 | Epoch: 23600, Model Loss: 1502790912.0\n",
      "0:29:38.512255 | Epoch: 23700, Model Loss: 1489805056.0\n",
      "0:29:45.460822 | Epoch: 23800, Model Loss: 1500443008.0\n",
      "0:29:52.558110 | Epoch: 23900, Model Loss: 1487285888.0\n",
      "0:29:59.845981 | Epoch: 24000, Model Loss: 1508409216.0\n",
      "0:30:07.035499 | Epoch: 24100, Model Loss: 1497736832.0\n",
      "0:30:15.076699 | Epoch: 24200, Model Loss: 1492269440.0\n",
      "0:30:23.470639 | Epoch: 24300, Model Loss: 1494389504.0\n",
      "0:30:30.341821 | Epoch: 24400, Model Loss: 1489071744.0\n",
      "0:30:37.848677 | Epoch: 24500, Model Loss: 1494496128.0\n",
      "0:30:44.586843 | Epoch: 24600, Model Loss: 1499134464.0\n",
      "0:30:51.212692 | Epoch: 24700, Model Loss: 1485458176.0\n",
      "0:30:57.631612 | Epoch: 24800, Model Loss: 1488492928.0\n",
      "0:31:04.100185 | Epoch: 24900, Model Loss: 1527661056.0\n",
      "0:31:10.663892 | Epoch: 25000, Model Loss: 1495488128.0\n",
      "0:31:17.081243 | Epoch: 25100, Model Loss: 1496365184.0\n",
      "0:31:23.663582 | Epoch: 25200, Model Loss: 1483699456.0\n",
      "0:31:31.077004 | Epoch: 25300, Model Loss: 1497007360.0\n",
      "0:31:42.628390 | Epoch: 25400, Model Loss: 1485193984.0\n",
      "0:31:53.801338 | Epoch: 25500, Model Loss: 1487121408.0\n",
      "0:32:02.322478 | Epoch: 25600, Model Loss: 1511806848.0\n",
      "0:32:09.351517 | Epoch: 25700, Model Loss: 1485548416.0\n",
      "0:32:16.120373 | Epoch: 25800, Model Loss: 1495949184.0\n",
      "0:32:22.547367 | Epoch: 25900, Model Loss: 1483157376.0\n",
      "0:32:28.528165 | Epoch: 26000, Model Loss: 1506206592.0\n",
      "0:32:34.846600 | Epoch: 26100, Model Loss: 1483655936.0\n",
      "0:32:40.654307 | Epoch: 26200, Model Loss: 1489130496.0\n",
      "0:32:46.583083 | Epoch: 26300, Model Loss: 1495085184.0\n",
      "0:32:52.514023 | Epoch: 26400, Model Loss: 1479239168.0\n",
      "0:32:59.004334 | Epoch: 26500, Model Loss: 1475428480.0\n",
      "0:33:06.050411 | Epoch: 26600, Model Loss: 1476045696.0\n",
      "0:33:12.764108 | Epoch: 26700, Model Loss: 1470683392.0\n",
      "0:33:19.589625 | Epoch: 26800, Model Loss: 1467587712.0\n",
      "0:33:26.519481 | Epoch: 26900, Model Loss: 1478174464.0\n",
      "0:33:33.745308 | Epoch: 27000, Model Loss: 1465315968.0\n",
      "0:33:42.551224 | Epoch: 27100, Model Loss: 1581570304.0\n",
      "0:33:50.425156 | Epoch: 27200, Model Loss: 1462265344.0\n",
      "0:33:57.353549 | Epoch: 27300, Model Loss: 1463820544.0\n",
      "0:34:04.348401 | Epoch: 27400, Model Loss: 1466255232.0\n",
      "0:34:11.316326 | Epoch: 27500, Model Loss: 1479216128.0\n",
      "0:34:18.450419 | Epoch: 27600, Model Loss: 1458023808.0\n",
      "0:34:27.272598 | Epoch: 27700, Model Loss: 1451750400.0\n",
      "0:34:35.861314 | Epoch: 27800, Model Loss: 1463822976.0\n",
      "0:34:43.832673 | Epoch: 27900, Model Loss: 1450295680.0\n",
      "0:34:51.115701 | Epoch: 28000, Model Loss: 1448760704.0\n",
      "0:34:58.530509 | Epoch: 28100, Model Loss: 1462349056.0\n",
      "0:35:06.930500 | Epoch: 28200, Model Loss: 1445950720.0\n",
      "0:35:14.382663 | Epoch: 28300, Model Loss: 1475617792.0\n",
      "0:35:22.029564 | Epoch: 28400, Model Loss: 1447037696.0\n",
      "0:35:29.069434 | Epoch: 28500, Model Loss: 1444531456.0\n",
      "0:35:35.661521 | Epoch: 28600, Model Loss: 1451010304.0\n",
      "0:35:43.808049 | Epoch: 28700, Model Loss: 1530385536.0\n",
      "0:35:51.922487 | Epoch: 28800, Model Loss: 1442441344.0\n",
      "0:35:59.267537 | Epoch: 28900, Model Loss: 1449519872.0\n",
      "0:36:05.985554 | Epoch: 29000, Model Loss: 1453700224.0\n",
      "0:36:11.638022 | Epoch: 29100, Model Loss: 1441782528.0\n",
      "0:36:17.835435 | Epoch: 29200, Model Loss: 1542531840.0\n",
      "0:36:23.522429 | Epoch: 29300, Model Loss: 1444492288.0\n",
      "0:36:30.087527 | Epoch: 29400, Model Loss: 1445311616.0\n",
      "0:36:36.835621 | Epoch: 29500, Model Loss: 1441186432.0\n",
      "0:36:43.020538 | Epoch: 29600, Model Loss: 1441372928.0\n",
      "0:36:49.571750 | Epoch: 29700, Model Loss: 1446828160.0\n",
      "0:36:55.618359 | Epoch: 29800, Model Loss: 1441516544.0\n",
      "0:37:02.809649 | Epoch: 29900, Model Loss: 1443803520.0\n",
      "0:37:10.469274 | Epoch: 30000, Model Loss: 1455372032.0\n"
     ]
    }
   ],
   "source": [
    "from datetime import datetime\n",
    "time_start = datetime.now()\n",
    "loss_curve = []\n",
    "start_time = datetime.now()\n",
    "l = np.inf\n",
    "for epoch in range(epochs+1):\n",
    "    y_pred = model(X_pt).to(device)\n",
    "    loss = criterion(y_pred, y_pt)\n",
    "    loss_curve.append(loss.item())\n",
    "    optimizer.zero_grad()\n",
    "    loss.backward()\n",
    "    optimizer.step()\n",
    "    if epoch % 100 == 0:\n",
    "        print(f'{datetime.now() - time_start} | Epoch: {epoch}, Model Loss: {loss.item()}')\n",
    "torch.save({'model': model.state_dict(),\n",
    "            'le_country': encoder_country,\n",
    "            'le_ed': encoder_ed}, 'model_15k.pt')"
   ],
   "metadata": {
    "collapsed": false,
    "ExecuteTime": {
     "start_time": "2023-06-03T22:08:14.251069Z",
     "end_time": "2023-06-03T22:45:24.740679Z"
    }
   }
  },
  {
   "cell_type": "code",
   "execution_count": 168,
   "outputs": [],
   "source": [
    "torch.save({'model': model.state_dict(),\n",
    "            'le_country': encoder_country,\n",
    "            'le_ed': encoder_ed}, 'model_15k.pt')"
   ],
   "metadata": {
    "collapsed": false,
    "ExecuteTime": {
     "start_time": "2023-06-03T22:45:24.745694Z",
     "end_time": "2023-06-03T22:45:24.764722Z"
    }
   }
  },
  {
   "cell_type": "code",
   "execution_count": 169,
   "outputs": [
    {
     "data": {
      "text/plain": "<Figure size 640x480 with 1 Axes>",
      "image/png": "[encoded data removed]"
     },
     "metadata": {},
     "output_type": "display_data"
    }
   ],
   "source": [
    "plt.plot(range(epochs+1), loss_curve)\n",
    "plt.plot(range(epochs+1)[::3000], loss_curve[::3000], '*r')\n",
    "plt.xlabel('Epochs')\n",
    "plt.ylabel('Loss')\n",
    "plt.show()"
   ],
   "metadata": {
    "collapsed": false,
    "ExecuteTime": {
     "start_time": "2023-06-03T22:45:24.770729Z",
     "end_time": "2023-06-03T22:45:24.942261Z"
    }
   }
  },
  {
   "cell_type": "code",
   "execution_count": 170,
   "outputs": [],
   "source": [
    "model = SalaryPredict(input_size)\n",
    "loader = torch.load('model_15k.pt')\n",
    "model.load_state_dict(loader['model'])\n",
    "encoder_country = loader['le_country']\n",
    "encoder_ed = loader['le_ed']"
   ],
   "metadata": {
    "collapsed": false,
    "ExecuteTime": {
     "start_time": "2023-06-03T22:45:24.946760Z",
     "end_time": "2023-06-03T22:45:25.024576Z"
    }
   }
  },
  {
   "cell_type": "code",
   "execution_count": 171,
   "outputs": [
    {
     "name": "stdout",
     "output_type": "stream",
     "text": [
      "['Australia' 'Brazil' 'Canada' 'France' 'Germany' 'India' 'Italy'\n",
      " 'Netherlands' 'Other' 'Poland' 'Spain'\n",
      " 'United Kingdom of Great Britain and Northern Ireland'\n",
      " 'United States of America']\n",
      "['Bachelors' 'Less than a Bachelors' 'Masters' 'Post Graduation']\n"
     ]
    }
   ],
   "source": [
    "print(encoder_country.classes_)\n",
    "print(encoder_ed.classes_)"
   ],
   "metadata": {
    "collapsed": false,
    "ExecuteTime": {
     "start_time": "2023-06-03T22:45:24.958783Z",
     "end_time": "2023-06-03T22:45:25.025588Z"
    }
   }
  },
  {
   "cell_type": "code",
   "execution_count": 172,
   "outputs": [
    {
     "data": {
      "text/plain": "array([['Brazil', '20', 'Masters', '0']], dtype='<U11')"
     },
     "execution_count": 172,
     "metadata": {},
     "output_type": "execute_result"
    }
   ],
   "source": [
    "x = np.array([[\"Brazil\", 20, \"Masters\", 0]])\n",
    "x"
   ],
   "metadata": {
    "collapsed": false,
    "ExecuteTime": {
     "start_time": "2023-06-03T22:45:24.978359Z",
     "end_time": "2023-06-03T22:45:25.025588Z"
    }
   }
  },
  {
   "cell_type": "code",
   "execution_count": 173,
   "outputs": [],
   "source": [
    "x[:, 0] = encoder_country.transform(x[:, 0])\n",
    "x[:, 2] = encoder_ed.transform(x[:, 2])\n",
    "x = x.astype(float)"
   ],
   "metadata": {
    "collapsed": false,
    "ExecuteTime": {
     "start_time": "2023-06-03T22:45:24.996286Z",
     "end_time": "2023-06-03T22:45:25.025588Z"
    }
   }
  },
  {
   "cell_type": "code",
   "execution_count": 174,
   "outputs": [],
   "source": [
    "with open('model_regressor.pkl', 'rb') as file:\n",
    "    data = pickle.load(file)\n",
    "linear, decision, random, grid = data['Linear'], data['Decision'], data['RandomForest'], data['Grid']"
   ],
   "metadata": {
    "collapsed": false,
    "ExecuteTime": {
     "start_time": "2023-06-03T22:45:25.007973Z",
     "end_time": "2023-06-03T22:45:25.103416Z"
    }
   }
  },
  {
   "cell_type": "code",
   "execution_count": 175,
   "outputs": [
    {
     "name": "stdout",
     "output_type": "stream",
     "text": [
      "Linear: 13705.835975068556\n",
      "Decision: 10500.166666666666\n",
      "Random: 21991.368152175826\n",
      "Grid: 13125.25\n",
      "Neural Network: 13546.3798828125\n",
      "Mean of all: 14573.800135344709\n"
     ]
    }
   ],
   "source": [
    "y_pred_l = linear.predict(x)[0]\n",
    "y_pred_d = decision.predict(x)[0]\n",
    "y_pred_r = random.predict(x)[0]\n",
    "y_pred_g = grid.predict(x)[0]\n",
    "y_pred_nn = model(torch.from_numpy(x.astype(float)).float()).item()\n",
    "print(f'Linear: {y_pred_l}\\nDecision: {y_pred_d}\\nRandom: {y_pred_r}\\nGrid: {y_pred_g}\\nNeural Network: {y_pred_nn}')\n",
    "print(f\"Mean of all: {np.mean([y_pred_l, y_pred_d, y_pred_r, y_pred_g, y_pred_nn])}\")"
   ],
   "metadata": {
    "collapsed": false,
    "ExecuteTime": {
     "start_time": "2023-06-03T22:45:25.106934Z",
     "end_time": "2023-06-03T22:45:25.158600Z"
    }
   }
  }
 ],
 "metadata": {
  "kernelspec": {
   "display_name": "Python 3",
   "language": "python",
   "name": "python3"
  },
  "language_info": {
   "codemirror_mode": {
    "name": "ipython",
    "version": 2
   },
   "file_extension": ".py",
   "mimetype": "text/x-python",
   "name": "python",
   "nbconvert_exporter": "python",
   "pygments_lexer": "ipython2",
   "version": "2.7.6"
  }
 },
 "nbformat": 4,
 "nbformat_minor": 0
}
